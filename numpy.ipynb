{
 "cells": [
  {
   "cell_type": "markdown",
   "id": "8b8b41a4-99a1-47ba-92da-fa370917d571",
   "metadata": {},
   "source": [
    "# Numpy"
   ]
  },
  {
   "cell_type": "markdown",
   "id": "5e8fff0c-6daa-4ca5-8d57-2ad38c02a203",
   "metadata": {},
   "source": [
    "## Numpy & List Benzerlikleri ve Farkları\n",
    "\n",
    "* Numpy ve List de elemanlara aynı şekilde pozisyon bazlı erişim mevcuttur.\n",
    "* Numpy ve List de elemanlara aynı şekilde aralıkla erişebiliriz ( np[0:2] ).\n",
    "* Numpy ve List üzerinde aynı döngü kullanabiliriz (for i in np:)\n",
    "\n",
    "* Numpy dizilerinde aynı tip eleman bulunur. Listlerde ise farklı tip elemanlarda bulunur.\n",
    "* Numpy da otomatik foksiyonları kullanabiliriz (mean(), std()) ancak list de kullanamayız.\n",
    "\n",
    "* Numpy list e göre çok daha hızlıdır.(50 kat 100 kat)\n"
   ]
  },
  {
   "cell_type": "code",
   "execution_count": 13,
   "id": "1cbb2920-c0e9-4459-b1fb-2d250a58ab6a",
   "metadata": {},
   "outputs": [],
   "source": [
    "import numpy as np\n",
    "import warnings\n",
    "warnings.filterwarnings('ignore')"
   ]
  },
  {
   "cell_type": "markdown",
   "id": "122bfded-4d22-42a7-ab6c-dca74af2da10",
   "metadata": {},
   "source": [
    "## Why Numpy"
   ]
  },
  {
   "cell_type": "code",
   "execution_count": 14,
   "id": "4c78cf2b-f899-4dc8-91d9-f1183e714dff",
   "metadata": {},
   "outputs": [
    {
     "data": {
      "text/plain": [
       "2.209183931350708"
      ]
     },
     "execution_count": 14,
     "metadata": {},
     "output_type": "execute_result"
    }
   ],
   "source": [
    "# Python list speed 2.2 seconds\n",
    "import time\n",
    "def trad_version():\n",
    "    t1 = time.time()\n",
    "    X = range(10000000)\n",
    "    Y = range(10000000)\n",
    "    Z = []\n",
    "    for i in range (len (X)):\n",
    "        Z. append (X[i] + Y[i])\n",
    "    return time.time() - t1\n",
    "trad_version()"
   ]
  },
  {
   "cell_type": "code",
   "execution_count": 15,
   "id": "021fc148-297c-4930-8dd3-c5912525923c",
   "metadata": {},
   "outputs": [
    {
     "data": {
      "text/plain": [
       "0.07529902458190918"
      ]
     },
     "execution_count": 15,
     "metadata": {},
     "output_type": "execute_result"
    }
   ],
   "source": [
    "# Numpy Speed 0.05 seconds\n",
    "def numpy_version():\n",
    "    t1 = time.time()\n",
    "    X = np.arange(10000000)\n",
    "    Y = np.arange(10000000)\n",
    "    Z = X + Y\n",
    "    return time.time() - t1\n",
    "numpy_version()"
   ]
  },
  {
   "cell_type": "markdown",
   "id": "5208d49a-6cd6-47a4-a3e0-21e4a9f9ed66",
   "metadata": {},
   "source": [
    "## list to array\n",
    "---"
   ]
  },
  {
   "cell_type": "code",
   "execution_count": 16,
   "id": "167d56f0-812d-4df4-beca-e1c694347fca",
   "metadata": {},
   "outputs": [
    {
     "data": {
      "text/plain": [
       "[10, 20, 30, 40, 50, 60]"
      ]
     },
     "execution_count": 16,
     "metadata": {},
     "output_type": "execute_result"
    }
   ],
   "source": [
    "list1 = [10,20,30,40,50,60]\n",
    "list1"
   ]
  },
  {
   "cell_type": "code",
   "execution_count": 17,
   "id": "aab11f85-9e3c-4ea4-8b5c-bd020bd6fcec",
   "metadata": {},
   "outputs": [
    {
     "data": {
      "text/plain": [
       "array([10, 20, 30, 40, 50, 60])"
      ]
     },
     "execution_count": 17,
     "metadata": {},
     "output_type": "execute_result"
    }
   ],
   "source": [
    "arr1 = np.array(list1)\n",
    "arr1"
   ]
  },
  {
   "cell_type": "code",
   "execution_count": 18,
   "id": "01df4aec-743d-4fb0-bf21-56c78f9fade5",
   "metadata": {},
   "outputs": [
    {
     "data": {
      "text/plain": [
       "numpy.ndarray"
      ]
     },
     "execution_count": 18,
     "metadata": {},
     "output_type": "execute_result"
    }
   ],
   "source": [
    "type(arr1)"
   ]
  },
  {
   "cell_type": "markdown",
   "id": "23feed05-03e7-40d8-a344-812978d6bb24",
   "metadata": {},
   "source": [
    "---"
   ]
  },
  {
   "cell_type": "markdown",
   "id": "dfb139a8-4759-4e81-93aa-db1f1d892bc6",
   "metadata": {},
   "source": [
    "### Arrayin içindeki verinin tipi (dtype)\n",
    "---"
   ]
  },
  {
   "cell_type": "code",
   "execution_count": 19,
   "id": "0433f893-8705-473c-b480-2d7a25476c9b",
   "metadata": {},
   "outputs": [
    {
     "data": {
      "text/plain": [
       "dtype('int64')"
      ]
     },
     "execution_count": 19,
     "metadata": {},
     "output_type": "execute_result"
    }
   ],
   "source": [
    "arr1.dtype"
   ]
  },
  {
   "cell_type": "markdown",
   "id": "6d42192a-9504-47cd-af6b-08902f04ebf0",
   "metadata": {},
   "source": [
    "---"
   ]
  },
  {
   "cell_type": "markdown",
   "id": "04fb12b2-3813-440e-92b3-4ae9fc44b805",
   "metadata": {},
   "source": [
    "### Tip değiştirme (astype())\n",
    "---"
   ]
  },
  {
   "cell_type": "code",
   "execution_count": 20,
   "id": "51b9570a-a27e-40c0-a8e6-a08469436a38",
   "metadata": {},
   "outputs": [
    {
     "data": {
      "text/plain": [
       "array([10., 20., 30., 40., 50., 60.])"
      ]
     },
     "execution_count": 20,
     "metadata": {},
     "output_type": "execute_result"
    }
   ],
   "source": [
    "arr1.astype(float)"
   ]
  },
  {
   "cell_type": "markdown",
   "id": "31c74151-9082-4d91-b4ab-b63ffb993ea6",
   "metadata": {},
   "source": [
    "---"
   ]
  },
  {
   "cell_type": "markdown",
   "id": "7bee3807-be48-4aae-ad93-b1d326e76895",
   "metadata": {},
   "source": [
    "### Python range() = Numpy arange()\n",
    "---"
   ]
  },
  {
   "cell_type": "code",
   "execution_count": 11,
   "id": "df3835f2-bb0d-42b2-ab1c-5ad83f6c5d5d",
   "metadata": {},
   "outputs": [
    {
     "data": {
      "text/plain": [
       "array([0, 1, 2, 3, 4, 5, 6, 7, 8, 9])"
      ]
     },
     "execution_count": 11,
     "metadata": {},
     "output_type": "execute_result"
    }
   ],
   "source": [
    "np.arange(0, 10)"
   ]
  },
  {
   "cell_type": "code",
   "execution_count": 12,
   "id": "eed8dd14-0aa4-4192-b550-70cf04379116",
   "metadata": {},
   "outputs": [
    {
     "data": {
      "text/plain": [
       "array([ 0, 10, 20, 30, 40, 50, 60, 70, 80, 90])"
      ]
     },
     "execution_count": 12,
     "metadata": {},
     "output_type": "execute_result"
    }
   ],
   "source": [
    "np.arange(0,100,10)"
   ]
  },
  {
   "cell_type": "code",
   "execution_count": 13,
   "id": "c9aa95b6-ab9d-4afd-ac99-37fadfb2e10c",
   "metadata": {},
   "outputs": [
    {
     "data": {
      "text/plain": [
       "array([100,  90,  80,  70,  60,  50,  40,  30,  20])"
      ]
     },
     "execution_count": 13,
     "metadata": {},
     "output_type": "execute_result"
    }
   ],
   "source": [
    "np.arange(100,10,-10)"
   ]
  },
  {
   "cell_type": "code",
   "execution_count": 14,
   "id": "96b42240-9883-440d-a2cd-3ea91e94da75",
   "metadata": {},
   "outputs": [],
   "source": [
    "arr3 = np.arange(0,10)"
   ]
  },
  {
   "cell_type": "code",
   "execution_count": 18,
   "id": "508fa0f0-0576-4854-be27-cd4173bcb724",
   "metadata": {},
   "outputs": [
    {
     "name": "stdout",
     "output_type": "stream",
     "text": [
      "(10,) 10 1 int64 8 80\n"
     ]
    }
   ],
   "source": [
    "print(arr3.shape,arr3.size,arr3.ndim,arr3.dtype,arr3.itemsize,arr3.nbytes)"
   ]
  },
  {
   "cell_type": "markdown",
   "id": "b93a91aa-4857-4cbf-a55a-e3cddc8c9fdc",
   "metadata": {},
   "source": [
    "---"
   ]
  },
  {
   "cell_type": "markdown",
   "id": "1b0e6293-07fc-4130-b361-e6ddb9eb54c0",
   "metadata": {},
   "source": [
    "### 0 lar ile array oluşturma (np.zeros())\n",
    "---"
   ]
  },
  {
   "cell_type": "code",
   "execution_count": 19,
   "id": "1a5deb5f-9761-45ee-b035-45dd57205b78",
   "metadata": {},
   "outputs": [
    {
     "data": {
      "text/plain": [
       "array([0., 0., 0., 0., 0., 0., 0., 0., 0., 0.])"
      ]
     },
     "execution_count": 19,
     "metadata": {},
     "output_type": "execute_result"
    }
   ],
   "source": [
    "np.zeros(10)"
   ]
  },
  {
   "cell_type": "markdown",
   "id": "d948ec7c-45db-4803-adbb-d7ab9f97d266",
   "metadata": {},
   "source": [
    "---"
   ]
  },
  {
   "cell_type": "markdown",
   "id": "a00e6a6b-94eb-4082-a15d-e9ed3b4c6d8d",
   "metadata": {},
   "source": [
    "### 1 ler ile array oluşturma (np.ones())\n",
    "---"
   ]
  },
  {
   "cell_type": "code",
   "execution_count": 20,
   "id": "d54c10a4-52b1-49d2-819f-ecb51dedd620",
   "metadata": {},
   "outputs": [
    {
     "data": {
      "text/plain": [
       "array([1., 1., 1., 1., 1., 1., 1., 1., 1., 1.])"
      ]
     },
     "execution_count": 20,
     "metadata": {},
     "output_type": "execute_result"
    }
   ],
   "source": [
    "np.ones(10)"
   ]
  },
  {
   "cell_type": "code",
   "execution_count": 21,
   "id": "c2430d77-6574-4539-9e56-ef5b3c179ebb",
   "metadata": {},
   "outputs": [
    {
     "data": {
      "text/plain": [
       "array([10, 10, 10, 10, 10])"
      ]
     },
     "execution_count": 21,
     "metadata": {},
     "output_type": "execute_result"
    }
   ],
   "source": [
    "np.repeat(10,5)"
   ]
  },
  {
   "cell_type": "code",
   "execution_count": 22,
   "id": "92d28105-c846-4d24-ad9c-ca23a3f15ebc",
   "metadata": {},
   "outputs": [
    {
     "data": {
      "text/plain": [
       "array([10, 10, 10, 10, 10])"
      ]
     },
     "execution_count": 22,
     "metadata": {},
     "output_type": "execute_result"
    }
   ],
   "source": [
    "np.full(5,10)"
   ]
  },
  {
   "cell_type": "markdown",
   "id": "1c839d3b-67fb-4da3-8f8d-686f97e7e34b",
   "metadata": {},
   "source": [
    "---"
   ]
  },
  {
   "cell_type": "markdown",
   "id": "723b480f-ea19-4a78-99ae-d9550a21f0ab",
   "metadata": {},
   "source": [
    "### Numpy da filtreleme\n",
    "---"
   ]
  },
  {
   "cell_type": "code",
   "execution_count": 21,
   "id": "0c988608-4ec9-42fd-a365-5474775f75d6",
   "metadata": {},
   "outputs": [
    {
     "data": {
      "text/plain": [
       "array([ 1,  3,  5,  7,  9, 11, 13, 15, 17, 19])"
      ]
     },
     "execution_count": 21,
     "metadata": {},
     "output_type": "execute_result"
    }
   ],
   "source": [
    "ar1 = np.arange(1,20)\n",
    "ar1[ar1%2==1] # ar1 içerisindeki verilerden tek sayı olanlar"
   ]
  },
  {
   "cell_type": "markdown",
   "id": "a94aa4fe-4d8d-45bb-a503-b303599c3db5",
   "metadata": {},
   "source": [
    "---"
   ]
  },
  {
   "cell_type": "markdown",
   "id": "4c438f35-31b4-417d-81e1-c3f97c950173",
   "metadata": {},
   "source": [
    "### Random sayı oluşturma -1<1\n",
    "---"
   ]
  },
  {
   "cell_type": "code",
   "execution_count": 30,
   "id": "d0f8a8e4-814f-4f32-87f7-e91255273f94",
   "metadata": {},
   "outputs": [
    {
     "data": {
      "text/plain": [
       "array([0.60662791, 0.06673124, 0.14527252, 0.3349332 ])"
      ]
     },
     "execution_count": 30,
     "metadata": {},
     "output_type": "execute_result"
    }
   ],
   "source": [
    "np.random.random(4)"
   ]
  },
  {
   "cell_type": "markdown",
   "id": "b5c8aefb-6503-4aa9-b65c-9d9c6b3dd53c",
   "metadata": {},
   "source": [
    "---"
   ]
  },
  {
   "cell_type": "markdown",
   "id": "65c26e05-c35a-4532-9097-83bbf8ff08d6",
   "metadata": {},
   "source": [
    "### random.randint\n",
    "---"
   ]
  },
  {
   "cell_type": "code",
   "execution_count": 27,
   "id": "9b580d73-be66-4455-8a29-32b333b11e83",
   "metadata": {},
   "outputs": [
    {
     "data": {
      "text/plain": [
       "array([365,  18, 213,  39, 364])"
      ]
     },
     "execution_count": 27,
     "metadata": {},
     "output_type": "execute_result"
    }
   ],
   "source": [
    "#0 dan 500 e kadar 5 farklı sayı üret\n",
    "np.random.randint(0,500,5)"
   ]
  },
  {
   "cell_type": "markdown",
   "id": "59be389b-78f5-479e-b877-fe83865a138d",
   "metadata": {},
   "source": [
    "---"
   ]
  },
  {
   "cell_type": "markdown",
   "id": "50949e97-e9a2-4b97-aed7-3433bd545c00",
   "metadata": {},
   "source": [
    "### random.seed() kullanımı\n",
    "---"
   ]
  },
  {
   "cell_type": "code",
   "execution_count": 32,
   "id": "baf80619-c3ba-4cf5-949d-36b3d450276b",
   "metadata": {},
   "outputs": [
    {
     "data": {
      "text/plain": [
       "array([66, 92, 98, 17, 83, 57, 86, 97, 96, 47])"
      ]
     },
     "execution_count": 32,
     "metadata": {},
     "output_type": "execute_result"
    }
   ],
   "source": [
    "#çekirdek değeri aynı sayıları tekrar üretmek için kullanılır\n",
    "np.random.seed(123)\n",
    "np.random.randint(0,100,10)"
   ]
  },
  {
   "cell_type": "code",
   "execution_count": 33,
   "id": "7b6920ff-deea-4d8a-a94d-c05412a8a362",
   "metadata": {},
   "outputs": [
    {
     "data": {
      "text/plain": [
       "array([95, 11, 81, 70, 63, 87, 75,  9, 77, 40])"
      ]
     },
     "execution_count": 33,
     "metadata": {},
     "output_type": "execute_result"
    }
   ],
   "source": [
    "np.random.seed(101)\n",
    "np.random.randint(0,100,10)"
   ]
  },
  {
   "cell_type": "code",
   "execution_count": 34,
   "id": "528cdcfa-4a0d-408f-bcd6-dca7b0b674f4",
   "metadata": {},
   "outputs": [
    {
     "data": {
      "text/plain": [
       "array([95, 11, 81, 70, 63, 87, 75,  9, 77, 40])"
      ]
     },
     "execution_count": 34,
     "metadata": {},
     "output_type": "execute_result"
    }
   ],
   "source": [
    "np.random.seed(101)\n",
    "np.random.randint(0,100,10)"
   ]
  },
  {
   "cell_type": "markdown",
   "id": "20c5f51a-f795-4336-a515-8ea1dfc15be2",
   "metadata": {},
   "source": [
    "---"
   ]
  },
  {
   "cell_type": "markdown",
   "id": "384ec8d3-8655-44d3-b96c-aef97916afd5",
   "metadata": {},
   "source": [
    "### ndenumerate \n",
    "* for döngülerinde değişkenlerin indexine de erişmek için kullanılır\n",
    "***"
   ]
  },
  {
   "cell_type": "code",
   "execution_count": 22,
   "id": "0982e7e8-4be9-4a12-8ba1-613197200750",
   "metadata": {},
   "outputs": [
    {
     "data": {
      "text/plain": [
       "array([10, 20, 30, 40, 50, 60])"
      ]
     },
     "execution_count": 22,
     "metadata": {},
     "output_type": "execute_result"
    }
   ],
   "source": [
    "arr1"
   ]
  },
  {
   "cell_type": "code",
   "execution_count": 24,
   "id": "2aeceb36-543e-4f23-a0a0-6e7c31f8225a",
   "metadata": {},
   "outputs": [
    {
     "name": "stdout",
     "output_type": "stream",
     "text": [
      "(0,) 10\n",
      "(1,) 20\n",
      "(2,) 30\n",
      "(3,) 40\n",
      "(4,) 50\n",
      "(5,) 60\n"
     ]
    }
   ],
   "source": [
    "for index, value in np.ndenumerate(arr1):\n",
    "    print(index, value)"
   ]
  },
  {
   "cell_type": "markdown",
   "id": "bbe2693b-6410-48c3-833e-662c32552fde",
   "metadata": {},
   "source": [
    "---"
   ]
  },
  {
   "cell_type": "markdown",
   "id": "53a9b1d6-cce8-49f8-ac45-16fced85f077",
   "metadata": {},
   "source": [
    "### median()\n",
    "* İçerisine gönderdiğiniz array'in medyanını bulmak için kullanılır\n"
   ]
  },
  {
   "cell_type": "code",
   "execution_count": 25,
   "id": "2fe0edeb-12d3-421e-894b-3e0928f7b267",
   "metadata": {},
   "outputs": [
    {
     "data": {
      "text/plain": [
       "array([ 1,  2,  3,  4,  5,  6,  7,  8,  9, 10, 11, 12, 13, 14, 15, 16, 17,\n",
       "       18, 19])"
      ]
     },
     "execution_count": 25,
     "metadata": {},
     "output_type": "execute_result"
    }
   ],
   "source": [
    "arr2 = np.arange(1,20)\n",
    "arr2"
   ]
  },
  {
   "cell_type": "code",
   "execution_count": 27,
   "id": "95fcd922-b824-44c0-8b23-07169528db57",
   "metadata": {},
   "outputs": [
    {
     "data": {
      "text/plain": [
       "10.0"
      ]
     },
     "execution_count": 27,
     "metadata": {},
     "output_type": "execute_result"
    }
   ],
   "source": [
    "np.median(arr2)"
   ]
  },
  {
   "cell_type": "markdown",
   "id": "286d052a-162c-42e5-9d8d-3882d6ec157f",
   "metadata": {},
   "source": [
    "---"
   ]
  },
  {
   "cell_type": "markdown",
   "id": "02928689-14f6-48db-8b0c-5827f88b4690",
   "metadata": {},
   "source": [
    "### cumsum()\n",
    "* İçerisine gönderdiğiniz array'in kümülatif toplamını verir"
   ]
  },
  {
   "cell_type": "code",
   "execution_count": 28,
   "id": "a7dc8aac-7f39-4c29-b721-10875120236e",
   "metadata": {},
   "outputs": [
    {
     "data": {
      "text/plain": [
       "array([  1,   3,   6,  10,  15,  21,  28,  36,  45,  55,  66,  78,  91,\n",
       "       105, 120, 136, 153, 171, 190])"
      ]
     },
     "execution_count": 28,
     "metadata": {},
     "output_type": "execute_result"
    }
   ],
   "source": [
    "np.cumsum(arr2)"
   ]
  },
  {
   "cell_type": "markdown",
   "id": "34c0f827-c729-4c74-8cb7-54bea94c064d",
   "metadata": {},
   "source": [
    "---"
   ]
  },
  {
   "cell_type": "markdown",
   "id": "ee068cac-af4f-4447-aaa6-11af872ae76e",
   "metadata": {},
   "source": [
    "### amin()\n",
    "* İçerisine gönderdiğiniz arrayin axis e göre sütun veya satırlarının minimum değerlerini döndürür"
   ]
  },
  {
   "cell_type": "code",
   "execution_count": 29,
   "id": "84155120-34b8-40f0-b204-bf809f41213d",
   "metadata": {},
   "outputs": [
    {
     "data": {
      "text/plain": [
       "array([[ 1,  2,  3,  0],\n",
       "       [ 5,  6,  7, 22],\n",
       "       [10, 11,  1,  3],\n",
       "       [14, 15, 16,  3]])"
      ]
     },
     "execution_count": 29,
     "metadata": {},
     "output_type": "execute_result"
    }
   ],
   "source": [
    "A = np.array([[1,2,3,0],[5,6,7,22],[10,11,1,3],[14,15,16,3]])\n",
    "A"
   ]
  },
  {
   "cell_type": "code",
   "execution_count": 33,
   "id": "835b6858-26c6-4faf-b16b-1dd47ca5558e",
   "metadata": {},
   "outputs": [
    {
     "data": {
      "text/plain": [
       "array([1, 2, 1, 0])"
      ]
     },
     "execution_count": 33,
     "metadata": {},
     "output_type": "execute_result"
    }
   ],
   "source": [
    "#Sütunların en küçük değerleri\n",
    "np.amin(A, axis=0)"
   ]
  },
  {
   "cell_type": "code",
   "execution_count": 32,
   "id": "7f6fa509-1b03-4113-abcf-245d6bdd76cd",
   "metadata": {},
   "outputs": [
    {
     "data": {
      "text/plain": [
       "array([0, 5, 1, 3])"
      ]
     },
     "execution_count": 32,
     "metadata": {},
     "output_type": "execute_result"
    }
   ],
   "source": [
    "#Satırların en küçük değerleri\n",
    "np.amin(A, axis=1)"
   ]
  },
  {
   "cell_type": "markdown",
   "id": "0ccedac5-7788-4287-a3d5-20372c70098b",
   "metadata": {},
   "source": [
    "---"
   ]
  },
  {
   "cell_type": "markdown",
   "id": "020b1cc6-c2b7-4754-a182-48bd74d8dc9f",
   "metadata": {},
   "source": [
    "### std()\n",
    "* İçerisine gönderdiğiniz array'in standart sapmasını döner"
   ]
  },
  {
   "cell_type": "code",
   "execution_count": 34,
   "id": "452255ff-fa3f-46ea-91a6-46c4c2e9e721",
   "metadata": {},
   "outputs": [
    {
     "data": {
      "text/plain": [
       "6.324246496619182"
      ]
     },
     "execution_count": 34,
     "metadata": {},
     "output_type": "execute_result"
    }
   ],
   "source": [
    "np.std(A)"
   ]
  },
  {
   "cell_type": "markdown",
   "id": "28b471c2-6805-49ce-9a10-2f524241ea6f",
   "metadata": {},
   "source": [
    "---"
   ]
  },
  {
   "cell_type": "markdown",
   "id": "0924e721-9245-4826-8900-2fb01922d87c",
   "metadata": {},
   "source": [
    "### Array'in içerisine index ile ulaşma"
   ]
  },
  {
   "cell_type": "code",
   "execution_count": 35,
   "id": "0c8f03e0-8fed-4312-8cb9-8aa56ba1f721",
   "metadata": {},
   "outputs": [
    {
     "data": {
      "text/plain": [
       "7"
      ]
     },
     "execution_count": 35,
     "metadata": {},
     "output_type": "execute_result"
    }
   ],
   "source": [
    "a = np.array([7,5,3,9,0,2])\n",
    "a[0]"
   ]
  },
  {
   "cell_type": "code",
   "execution_count": 36,
   "id": "768ec228-3ac0-4e2c-abd1-321027930f42",
   "metadata": {},
   "outputs": [
    {
     "data": {
      "text/plain": [
       "array([5, 3, 9])"
      ]
     },
     "execution_count": 36,
     "metadata": {},
     "output_type": "execute_result"
    }
   ],
   "source": [
    "a[1:4]"
   ]
  },
  {
   "cell_type": "code",
   "execution_count": 37,
   "id": "755a7377-ea54-4570-b8ef-412711912d14",
   "metadata": {},
   "outputs": [
    {
     "data": {
      "text/plain": [
       "2"
      ]
     },
     "execution_count": 37,
     "metadata": {},
     "output_type": "execute_result"
    }
   ],
   "source": [
    "a[-1]"
   ]
  },
  {
   "cell_type": "markdown",
   "id": "d616aa9b-0f26-43af-9cd2-9cc62e09974f",
   "metadata": {},
   "source": [
    "---"
   ]
  },
  {
   "cell_type": "markdown",
   "id": "0436ac47-b3c9-4b17-82dc-c1d45dbfef89",
   "metadata": {},
   "source": [
    "### where kullanımı\n",
    "* Bir koşula dayalı olarak bir arraydan yeni bir array yaratmak"
   ]
  },
  {
   "cell_type": "code",
   "execution_count": 38,
   "id": "be69b7fd-7dfc-4880-ae47-4bb7cc954a0a",
   "metadata": {},
   "outputs": [],
   "source": [
    "ar = np.arange(1,20)"
   ]
  },
  {
   "cell_type": "code",
   "execution_count": 39,
   "id": "64ed1335-6f01-470e-920a-ebed529f3fea",
   "metadata": {},
   "outputs": [
    {
     "name": "stdout",
     "output_type": "stream",
     "text": [
      "[ 1  0  3  0  5  0  7  0  9  0 11  0 13  0 15  0 17  0 19]\n"
     ]
    }
   ],
   "source": [
    "# ar arrayin içerisindeki çift sayıların yerine 0 yaz ve rep1 e at\n",
    "rep1= np.where(ar%2==0, 0, ar)\n",
    "print(rep1)"
   ]
  },
  {
   "cell_type": "code",
   "execution_count": 40,
   "id": "6364dfd5-c78d-49fd-b425-1720f4f615bf",
   "metadata": {},
   "outputs": [],
   "source": [
    "ar2 = np.array([10,20,30,10,10,20,20])"
   ]
  },
  {
   "cell_type": "code",
   "execution_count": 41,
   "id": "fb7042ff-a9e4-4612-8fa1-8d3deef8236a",
   "metadata": {},
   "outputs": [
    {
     "name": "stdout",
     "output_type": "stream",
     "text": [
      "[99 20 30 99 99 20 20]\n"
     ]
    }
   ],
   "source": [
    "# ar2 arrayinin içerisindeki 10 a eşit değerleri 99 ile değiştir ve bunu rep2 at\n",
    "rep2 = np.where(ar2 == 10, 99, ar2)\n",
    "print(rep2)"
   ]
  },
  {
   "cell_type": "code",
   "execution_count": 58,
   "id": "78381174-6afb-4528-b968-2d59ec71af96",
   "metadata": {},
   "outputs": [
    {
     "data": {
      "text/plain": [
       "array([21, 22, 23, 24, 25, 26, 27, 28, 29, 30, 31, 32, 33, 34])"
      ]
     },
     "execution_count": 58,
     "metadata": {},
     "output_type": "execute_result"
    }
   ],
   "source": [
    "a1 = np.arange(0,60)\n",
    "a1[np.where((a1>20)&(a1<35))]"
   ]
  },
  {
   "cell_type": "markdown",
   "id": "7de96b28-e1ea-42c3-aad9-de2d15a6b5be",
   "metadata": {},
   "source": [
    "---"
   ]
  },
  {
   "cell_type": "markdown",
   "id": "9a54585a-b193-4cf8-812e-14d986315a5b",
   "metadata": {},
   "source": [
    "### put()\n",
    "* Bir arrayin belirli indexlerini değiştirme"
   ]
  },
  {
   "cell_type": "code",
   "execution_count": 42,
   "id": "feae9f2f-3dd7-4994-ab5b-b77a66263dd5",
   "metadata": {},
   "outputs": [],
   "source": [
    "p2 = np.arange(0,100,10)"
   ]
  },
  {
   "cell_type": "code",
   "execution_count": 43,
   "id": "1bfe3011-8876-4cb5-b7b6-b18c69483008",
   "metadata": {},
   "outputs": [
    {
     "data": {
      "text/plain": [
       "array([22, 10, 20, 34, 40, 56, 60, 70, 80, 90])"
      ]
     },
     "execution_count": 43,
     "metadata": {},
     "output_type": "execute_result"
    }
   ],
   "source": [
    "# p2 arrayinin 0.3.5 indexlerindeki değerleri sırası ile 22 34 56 değerleri ile değiştir\n",
    "np.put(p2, [0,3,5],[22,34,56])\n",
    "p2"
   ]
  },
  {
   "cell_type": "markdown",
   "id": "6d5d96f3-6707-47d3-954f-5df4e6fe0377",
   "metadata": {},
   "source": [
    "---"
   ]
  },
  {
   "cell_type": "markdown",
   "id": "a21617b7-fe82-4f1d-ab15-710a948f886f",
   "metadata": {},
   "source": [
    "### Eksik değerler ile ilgilenme (Missing Values)"
   ]
  },
  {
   "cell_type": "code",
   "execution_count": 44,
   "id": "d9ffd319-eb1f-4bdb-a2f5-f61b88a7ce23",
   "metadata": {},
   "outputs": [
    {
     "data": {
      "text/plain": [
       "array([10., nan, 20., 30., 60., nan, 90., inf])"
      ]
     },
     "execution_count": 44,
     "metadata": {},
     "output_type": "execute_result"
    }
   ],
   "source": [
    "a = np.array([10,np.nan,20,30,60,np.nan,90,np.inf])\n",
    "a"
   ]
  },
  {
   "cell_type": "code",
   "execution_count": 47,
   "id": "e9667c12-9f99-4f8e-acf7-367ff942192a",
   "metadata": {},
   "outputs": [
    {
     "data": {
      "text/plain": [
       "array([False,  True, False, False, False,  True, False, False])"
      ]
     },
     "execution_count": 47,
     "metadata": {},
     "output_type": "execute_result"
    }
   ],
   "source": [
    "np.isnan(a)"
   ]
  },
  {
   "cell_type": "code",
   "execution_count": 48,
   "id": "af06e9a1-270d-4a56-9f4d-4890eb85489a",
   "metadata": {},
   "outputs": [
    {
     "data": {
      "text/plain": [
       "(array([1, 5]),)"
      ]
     },
     "execution_count": 48,
     "metadata": {},
     "output_type": "execute_result"
    }
   ],
   "source": [
    "# nan değerlerin hangi indexlerde olduğunu verir\n",
    "np.where(np.isnan(a))"
   ]
  },
  {
   "cell_type": "code",
   "execution_count": 49,
   "id": "bd5bbff8-4aaa-4992-8fc5-402ab3b7f659",
   "metadata": {},
   "outputs": [
    {
     "data": {
      "text/plain": [
       "array([10., 99., 20., 30., 60., 99., 90., inf])"
      ]
     },
     "execution_count": 49,
     "metadata": {},
     "output_type": "execute_result"
    }
   ],
   "source": [
    "# nan değerleri doldurma\n",
    "a[np.isnan(a)]= 99\n",
    "a"
   ]
  },
  {
   "cell_type": "code",
   "execution_count": 52,
   "id": "916698b7-6c5d-44a5-8988-99f48ff531dd",
   "metadata": {},
   "outputs": [
    {
     "data": {
      "text/plain": [
       "False"
      ]
     },
     "execution_count": 52,
     "metadata": {},
     "output_type": "execute_result"
    }
   ],
   "source": [
    "np.isnan(a).any()"
   ]
  },
  {
   "cell_type": "markdown",
   "id": "74b8680f-13f1-48cc-992d-b8dbec332127",
   "metadata": {},
   "source": [
    "---"
   ]
  },
  {
   "cell_type": "markdown",
   "id": "703202b4-64fb-42f6-bf70-b8182bc761e7",
   "metadata": {},
   "source": [
    "### Dizileri birleştirme (yatay ve dikey)"
   ]
  },
  {
   "cell_type": "code",
   "execution_count": 53,
   "id": "684bce3a-d355-4846-9944-ee6d68e333c8",
   "metadata": {},
   "outputs": [],
   "source": [
    "a = np.zeros(20).reshape(2, -1)\n",
    "b = np.repeat(1,20).reshape(2, -1)"
   ]
  },
  {
   "cell_type": "code",
   "execution_count": 54,
   "id": "eb7d55e5-3e97-4225-9b4c-1a16af9144be",
   "metadata": {},
   "outputs": [
    {
     "data": {
      "text/plain": [
       "array([[0., 0., 0., 0., 0., 0., 0., 0., 0., 0.],\n",
       "       [0., 0., 0., 0., 0., 0., 0., 0., 0., 0.],\n",
       "       [1., 1., 1., 1., 1., 1., 1., 1., 1., 1.],\n",
       "       [1., 1., 1., 1., 1., 1., 1., 1., 1., 1.]])"
      ]
     },
     "execution_count": 54,
     "metadata": {},
     "output_type": "execute_result"
    }
   ],
   "source": [
    "# Vertical dikey olarak birleştirir\n",
    "np.vstack([a,b])"
   ]
  },
  {
   "cell_type": "code",
   "execution_count": 55,
   "id": "a7d09a37-2355-4fd8-9a73-578e4cf80a8a",
   "metadata": {},
   "outputs": [
    {
     "data": {
      "text/plain": [
       "array([[0., 0., 0., 0., 0., 0., 0., 0., 0., 0., 1., 1., 1., 1., 1., 1.,\n",
       "        1., 1., 1., 1.],\n",
       "       [0., 0., 0., 0., 0., 0., 0., 0., 0., 0., 1., 1., 1., 1., 1., 1.,\n",
       "        1., 1., 1., 1.]])"
      ]
     },
     "execution_count": 55,
     "metadata": {},
     "output_type": "execute_result"
    }
   ],
   "source": [
    "# Horizontal yatay olarak birleştirir\n",
    "np.hstack([a,b])"
   ]
  },
  {
   "cell_type": "markdown",
   "id": "5660ceea-68ec-4307-844d-93dc37e2448c",
   "metadata": {},
   "source": [
    "---"
   ]
  },
  {
   "cell_type": "markdown",
   "id": "b12fc1f3-89ed-4cb4-9afa-f107d358b000",
   "metadata": {},
   "source": [
    "### intersect1d\n",
    "* iki arrayin ortak değerleri, kesişim kümesi bir array olarak döndürür"
   ]
  },
  {
   "cell_type": "code",
   "execution_count": 56,
   "id": "c9e913b3-9cbd-48c8-af2e-0ae19c9d23fc",
   "metadata": {},
   "outputs": [
    {
     "data": {
      "text/plain": [
       "array([20, 40, 60])"
      ]
     },
     "execution_count": 56,
     "metadata": {},
     "output_type": "execute_result"
    }
   ],
   "source": [
    "c1 = np.array([10,20,30,40,50,60])\n",
    "c2 = np.array([12,20,33,40,55,60])\n",
    "\n",
    "np.intersect1d(c1,c2)"
   ]
  },
  {
   "cell_type": "markdown",
   "id": "1db9f0fe-fbb3-4162-b5ae-97468e7b265f",
   "metadata": {},
   "source": [
    "---"
   ]
  },
  {
   "cell_type": "markdown",
   "id": "1e946dd7-26e2-4ed9-834e-7394cab9a421",
   "metadata": {},
   "source": [
    "### setdiff1d\n",
    "* ilk arrayin diğer arrayden farklı olan değerlerini döndürür."
   ]
  },
  {
   "cell_type": "code",
   "execution_count": 57,
   "id": "e4181661-c1e5-4129-b81c-8b4f5d5536ee",
   "metadata": {},
   "outputs": [
    {
     "data": {
      "text/plain": [
       "array([10, 30, 50])"
      ]
     },
     "execution_count": 57,
     "metadata": {},
     "output_type": "execute_result"
    }
   ],
   "source": [
    "np.setdiff1d(c1,c2)"
   ]
  },
  {
   "cell_type": "markdown",
   "id": "824d8e0c-a9cf-43de-8030-a51919612de5",
   "metadata": {},
   "source": [
    "---"
   ]
  },
  {
   "cell_type": "markdown",
   "id": "849a51cd-e738-467c-be48-a88947da3b8e",
   "metadata": {},
   "source": [
    "### isin()\n",
    "* Bulunurluk kontrolü yapar"
   ]
  },
  {
   "cell_type": "code",
   "execution_count": 60,
   "id": "46da6290-1731-4e1f-a5fa-c05ca28f6800",
   "metadata": {},
   "outputs": [
    {
     "data": {
      "text/plain": [
       "array([10, 20, 30, 40, 50, 60, 70])"
      ]
     },
     "execution_count": 60,
     "metadata": {},
     "output_type": "execute_result"
    }
   ],
   "source": [
    "a = np.arange(10,80,10)\n",
    "a"
   ]
  },
  {
   "cell_type": "code",
   "execution_count": 62,
   "id": "48ce2eaa-c8fc-4a13-8f4b-d0cdd1cce49b",
   "metadata": {},
   "outputs": [
    {
     "data": {
      "text/plain": [
       "array([False,  True, False, False, False, False, False])"
      ]
     },
     "execution_count": 62,
     "metadata": {},
     "output_type": "execute_result"
    }
   ],
   "source": [
    "# 11 ve 20 değerleri a arrayinde var mı\n",
    "np.isin(a, [11,20])"
   ]
  },
  {
   "cell_type": "code",
   "execution_count": 63,
   "id": "19b150b9-581a-4467-815e-baf5938c9619",
   "metadata": {},
   "outputs": [
    {
     "data": {
      "text/plain": [
       "array([20])"
      ]
     },
     "execution_count": 63,
     "metadata": {},
     "output_type": "execute_result"
    }
   ],
   "source": [
    "a[np.isin(a,20)]"
   ]
  },
  {
   "cell_type": "code",
   "execution_count": 64,
   "id": "c9f25abc-c021-488f-9f2c-8f293db0b8a8",
   "metadata": {},
   "outputs": [
    {
     "data": {
      "text/plain": [
       "array([False, False, False, False, False, False, False])"
      ]
     },
     "execution_count": 64,
     "metadata": {},
     "output_type": "execute_result"
    }
   ],
   "source": [
    "np.isin(a,33)"
   ]
  },
  {
   "cell_type": "code",
   "execution_count": 65,
   "id": "936916f8-7a44-4a42-831e-b7ac7bffe7df",
   "metadata": {},
   "outputs": [
    {
     "data": {
      "text/plain": [
       "array([10, 20, 30, 40, 10, 10, 70, 80, 70, 90])"
      ]
     },
     "execution_count": 65,
     "metadata": {},
     "output_type": "execute_result"
    }
   ],
   "source": [
    "b = np.array([10,20,30,40,10,10,70,80,70,90])\n",
    "b"
   ]
  },
  {
   "cell_type": "code",
   "execution_count": 66,
   "id": "b058c840-1c2b-4216-bf26-d182e935c169",
   "metadata": {},
   "outputs": [
    {
     "data": {
      "text/plain": [
       "array([ True, False, False, False,  True,  True,  True, False,  True,\n",
       "       False])"
      ]
     },
     "execution_count": 66,
     "metadata": {},
     "output_type": "execute_result"
    }
   ],
   "source": [
    "np.isin(b, [10,70])"
   ]
  },
  {
   "cell_type": "code",
   "execution_count": 67,
   "id": "131fc1ec-73b0-4c1d-ab24-ce15e0fcf4c0",
   "metadata": {},
   "outputs": [
    {
     "data": {
      "text/plain": [
       "(array([0, 4, 5, 6, 8]),)"
      ]
     },
     "execution_count": 67,
     "metadata": {},
     "output_type": "execute_result"
    }
   ],
   "source": [
    "np.where(np.isin(b,[10,70]))"
   ]
  },
  {
   "cell_type": "markdown",
   "id": "7a555b72-2028-4918-8019-79da76d6bad5",
   "metadata": {},
   "source": [
    "---"
   ]
  },
  {
   "cell_type": "markdown",
   "id": "feab7e1c-b79c-4493-ac35-e5947da14f7b",
   "metadata": {},
   "source": [
    "### Diziyi ters çevirme"
   ]
  },
  {
   "cell_type": "code",
   "execution_count": 68,
   "id": "9872d67d-c968-4096-9ceb-c787287a9ddd",
   "metadata": {},
   "outputs": [
    {
     "data": {
      "text/plain": [
       "array([10, 11, 12, 13, 14, 15, 16, 17, 18, 19, 20, 21, 22, 23, 24, 25, 26,\n",
       "       27, 28, 29])"
      ]
     },
     "execution_count": 68,
     "metadata": {},
     "output_type": "execute_result"
    }
   ],
   "source": [
    "a4 = np.arange(10,30)\n",
    "a4"
   ]
  },
  {
   "cell_type": "code",
   "execution_count": 70,
   "id": "218c13bb-a417-4146-ad36-e1896edafc0e",
   "metadata": {},
   "outputs": [
    {
     "data": {
      "text/plain": [
       "array([29, 28, 27, 26, 25, 24, 23, 22, 21, 20, 19, 18, 17, 16, 15, 14, 13,\n",
       "       12, 11, 10])"
      ]
     },
     "execution_count": 70,
     "metadata": {},
     "output_type": "execute_result"
    }
   ],
   "source": [
    "#1\n",
    "a4[::-1]"
   ]
  },
  {
   "cell_type": "code",
   "execution_count": 71,
   "id": "8fb0d621-534b-4908-ae30-5a1b6461b8c4",
   "metadata": {},
   "outputs": [
    {
     "data": {
      "text/plain": [
       "array([29, 28, 27, 26, 25, 24, 23, 22, 21, 20, 19, 18, 17, 16, 15, 14, 13,\n",
       "       12, 11, 10])"
      ]
     },
     "execution_count": 71,
     "metadata": {},
     "output_type": "execute_result"
    }
   ],
   "source": [
    "#2\n",
    "np.flip(a4)"
   ]
  },
  {
   "cell_type": "markdown",
   "id": "ef026099-c433-4d85-9da7-de9107879a26",
   "metadata": {},
   "source": [
    "---"
   ]
  },
  {
   "cell_type": "markdown",
   "id": "269d56cb-1100-4476-9e9c-dad92c773726",
   "metadata": {},
   "source": [
    "### sort()\n",
    "* array sıralama"
   ]
  },
  {
   "cell_type": "code",
   "execution_count": 72,
   "id": "c4bce7a3-d429-4c9f-adb4-858b397e2c52",
   "metadata": {},
   "outputs": [
    {
     "data": {
      "text/plain": [
       "array([10,  5,  2, 22, 12, 92, 17, 33])"
      ]
     },
     "execution_count": 72,
     "metadata": {},
     "output_type": "execute_result"
    }
   ],
   "source": [
    "a=np.array([10,5,2,22,12,92,17,33])\n",
    "a"
   ]
  },
  {
   "cell_type": "code",
   "execution_count": 73,
   "id": "6ef99349-5aca-4193-b54e-8a597d3b0dec",
   "metadata": {},
   "outputs": [
    {
     "data": {
      "text/plain": [
       "array([ 2,  5, 10, 12, 17, 22, 33, 92])"
      ]
     },
     "execution_count": 73,
     "metadata": {},
     "output_type": "execute_result"
    }
   ],
   "source": [
    "np.sort(a)"
   ]
  },
  {
   "cell_type": "code",
   "execution_count": 74,
   "id": "9c14848f-3c5e-42c5-953f-45cde7635390",
   "metadata": {},
   "outputs": [
    {
     "data": {
      "text/plain": [
       "array([[ 3,  2,  8,  1],\n",
       "       [70, 50, 10, 67],\n",
       "       [45, 25, 75, 15]])"
      ]
     },
     "execution_count": 74,
     "metadata": {},
     "output_type": "execute_result"
    }
   ],
   "source": [
    "a3 = np.array([[3,2,8,1],[70,50,10,67],[45,25,75,15]])\n",
    "a3"
   ]
  },
  {
   "cell_type": "code",
   "execution_count": 75,
   "id": "30f13210-1def-4a6e-a270-6a8480c660cc",
   "metadata": {},
   "outputs": [
    {
     "data": {
      "text/plain": [
       "array([[ 1,  2,  3,  8],\n",
       "       [10, 50, 67, 70],\n",
       "       [15, 25, 45, 75]])"
      ]
     },
     "execution_count": 75,
     "metadata": {},
     "output_type": "execute_result"
    }
   ],
   "source": [
    "#Satır bazlı sıralama\n",
    "np.sort(a3)"
   ]
  },
  {
   "cell_type": "code",
   "execution_count": 77,
   "id": "3dd53e43-516d-4552-a743-09438dc0766b",
   "metadata": {},
   "outputs": [
    {
     "data": {
      "text/plain": [
       "array([[ 3,  2,  8,  1],\n",
       "       [45, 25, 10, 15],\n",
       "       [70, 50, 75, 67]])"
      ]
     },
     "execution_count": 77,
     "metadata": {},
     "output_type": "execute_result"
    }
   ],
   "source": [
    "#Sütun bazlı sıralama\n",
    "np.sort(a3, axis=0)"
   ]
  },
  {
   "cell_type": "code",
   "execution_count": 78,
   "id": "c1bd1036-83e3-4281-9e30-e2e5c4ec7906",
   "metadata": {},
   "outputs": [
    {
     "data": {
      "text/plain": [
       "array([10,  5,  2, 22, 12, 92, 17, 33])"
      ]
     },
     "execution_count": 78,
     "metadata": {},
     "output_type": "execute_result"
    }
   ],
   "source": [
    "a"
   ]
  },
  {
   "cell_type": "code",
   "execution_count": 81,
   "id": "734d373b-72ea-44a1-9317-fd7cb9f33308",
   "metadata": {},
   "outputs": [
    {
     "data": {
      "text/plain": [
       "array([92, 33, 22, 17, 12, 10,  5,  2])"
      ]
     },
     "execution_count": 81,
     "metadata": {},
     "output_type": "execute_result"
    }
   ],
   "source": [
    "# büyükten küçüğe sıralamak için önce küçükten büyüğe sıralayıp ters çeviriyoruz\n",
    "c = np.sort(a)\n",
    "np.flip(c)"
   ]
  },
  {
   "cell_type": "markdown",
   "id": "ccbca13a-62e6-4640-8bf9-2e9bfe7d2acb",
   "metadata": {},
   "source": [
    "---"
   ]
  },
  {
   "cell_type": "markdown",
   "id": "ec13066e-38a3-435e-b9ac-cf34c9f40aec",
   "metadata": {},
   "source": [
    "### random.shuffle()\n",
    "* array'i karıştırmak"
   ]
  },
  {
   "cell_type": "code",
   "execution_count": 82,
   "id": "b67850e0-f31f-4d90-91da-d9c2ba48ea43",
   "metadata": {},
   "outputs": [
    {
     "data": {
      "text/plain": [
       "array([ 0,  1,  2,  3,  4,  5,  6,  7,  8,  9, 10, 11, 12, 13, 14, 15, 16,\n",
       "       17, 18, 19, 20, 21, 22, 23, 24, 25, 26, 27, 28, 29, 30, 31, 32, 33,\n",
       "       34, 35, 36, 37, 38, 39, 40, 41, 42, 43, 44, 45, 46, 47, 48, 49])"
      ]
     },
     "execution_count": 82,
     "metadata": {},
     "output_type": "execute_result"
    }
   ],
   "source": [
    "p = np.arange(0,50)\n",
    "p"
   ]
  },
  {
   "cell_type": "code",
   "execution_count": 83,
   "id": "1a643464-5f6d-41e8-928e-7c9688207eba",
   "metadata": {},
   "outputs": [
    {
     "data": {
      "text/plain": [
       "array([ 7, 30,  9, 47, 14,  1, 44, 18, 41, 25,  3, 28, 16, 23, 43,  4, 22,\n",
       "        5,  8, 40,  6, 49, 45, 20, 39,  2, 32, 33, 19, 15, 17, 29, 11, 21,\n",
       "       10, 35, 24, 42, 46, 36, 13,  0, 27, 38, 34, 37, 26, 48, 12, 31])"
      ]
     },
     "execution_count": 83,
     "metadata": {},
     "output_type": "execute_result"
    }
   ],
   "source": [
    "np.random.shuffle(p)\n",
    "p"
   ]
  },
  {
   "cell_type": "code",
   "execution_count": 84,
   "id": "2f8e5524-a5a7-4b38-b28c-a2ee8d3574b8",
   "metadata": {},
   "outputs": [
    {
     "data": {
      "text/plain": [
       "array([40, 41, 42, 43, 44, 45, 46, 47, 48, 49])"
      ]
     },
     "execution_count": 84,
     "metadata": {},
     "output_type": "execute_result"
    }
   ],
   "source": [
    "# p arrayindeki en büyük 10 değeri bulma\n",
    "n = 10\n",
    "p[np.argsort(p)[-n:]]"
   ]
  },
  {
   "cell_type": "code",
   "execution_count": 85,
   "id": "977e0bf8-c77f-4d34-9e04-0411dcbcecdb",
   "metadata": {},
   "outputs": [
    {
     "data": {
      "text/plain": [
       "array([9, 8, 7, 6, 5, 4, 3, 2, 1, 0])"
      ]
     },
     "execution_count": 85,
     "metadata": {},
     "output_type": "execute_result"
    }
   ],
   "source": [
    "# p değerindeki en küçük 10 değeri bulma\n",
    "n=10\n",
    "p[np.argsort(-p)[-n:]]"
   ]
  },
  {
   "cell_type": "markdown",
   "id": "5a0298c6-fa2b-4ad0-8655-467732d4fc72",
   "metadata": {},
   "source": [
    "---"
   ]
  },
  {
   "cell_type": "markdown",
   "id": "c8f94f8f-92a4-4a10-952b-f13f449ff3b6",
   "metadata": {},
   "source": [
    "### unique()\n",
    "* Arraydeki benzersiz değerleri getirir"
   ]
  },
  {
   "cell_type": "code",
   "execution_count": null,
   "id": "840d8aef-486d-4f6c-88ad-ac6fde83aacb",
   "metadata": {},
   "outputs": [],
   "source": []
  }
 ],
 "metadata": {
  "kernelspec": {
   "display_name": "Python 3 (ipykernel)",
   "language": "python",
   "name": "python3"
  },
  "language_info": {
   "codemirror_mode": {
    "name": "ipython",
    "version": 3
   },
   "file_extension": ".py",
   "mimetype": "text/x-python",
   "name": "python",
   "nbconvert_exporter": "python",
   "pygments_lexer": "ipython3",
   "version": "3.9.13"
  }
 },
 "nbformat": 4,
 "nbformat_minor": 5
}
