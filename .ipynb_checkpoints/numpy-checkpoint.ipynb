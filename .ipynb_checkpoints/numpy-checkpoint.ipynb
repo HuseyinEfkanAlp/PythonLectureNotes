{
 "cells": [
  {
   "cell_type": "markdown",
   "id": "8b8b41a4-99a1-47ba-92da-fa370917d571",
   "metadata": {},
   "source": [
    "# Numpy"
   ]
  },
  {
   "cell_type": "markdown",
   "id": "5e8fff0c-6daa-4ca5-8d57-2ad38c02a203",
   "metadata": {},
   "source": [
    "## Numpy & List Benzerlikleri ve Farkları\n",
    "\n",
    "* Numpy ve List de elemanlara aynı şekilde pozisyon bazlı erişim mevcuttur.\n",
    "* Numpy ve List de elemanlara aynı şekilde aralıkla erişebiliriz ( np[0:2] ).\n",
    "* Numpy ve List üzerinde aynı döngü kullanabiliriz (for i in np:)\n",
    "\n",
    "* Numpy dizilerinde aynı tip eleman bulunur. Listlerde ise farklı tip elemanlarda bulunur.\n",
    "* Numpy da otomatik foksiyonları kullanabiliriz (mean(), std()) ancak list de kullanamayız.\n",
    "\n",
    "* Numpy list e göre çok daha hızlıdır.(50 kat 100 kat)\n"
   ]
  },
  {
   "cell_type": "code",
   "execution_count": 1,
   "id": "1cbb2920-c0e9-4459-b1fb-2d250a58ab6a",
   "metadata": {},
   "outputs": [],
   "source": [
    "import numpy as np\n",
    "import warnings\n",
    "warnings.filterwarnings('ignore')"
   ]
  },
  {
   "cell_type": "markdown",
   "id": "122bfded-4d22-42a7-ab6c-dca74af2da10",
   "metadata": {},
   "source": [
    "## Why Numpy"
   ]
  },
  {
   "cell_type": "code",
   "execution_count": 2,
   "id": "4c78cf2b-f899-4dc8-91d9-f1183e714dff",
   "metadata": {},
   "outputs": [
    {
     "data": {
      "text/plain": [
       "2.2963719367980957"
      ]
     },
     "execution_count": 2,
     "metadata": {},
     "output_type": "execute_result"
    }
   ],
   "source": [
    "# Python list speed 2.2 seconds\n",
    "import time\n",
    "def trad_version():\n",
    "    t1 = time.time()\n",
    "    X = range(10000000)\n",
    "    Y = range(10000000)\n",
    "    Z = []\n",
    "    for i in range (len (X)):\n",
    "        Z. append (X[i] + Y[i])\n",
    "    return time.time() - t1\n",
    "trad_version()"
   ]
  },
  {
   "cell_type": "code",
   "execution_count": 3,
   "id": "021fc148-297c-4930-8dd3-c5912525923c",
   "metadata": {},
   "outputs": [
    {
     "data": {
      "text/plain": [
       "0.09017491340637207"
      ]
     },
     "execution_count": 3,
     "metadata": {},
     "output_type": "execute_result"
    }
   ],
   "source": [
    "# Numpy Speed 0.05 seconds\n",
    "def numpy_version():\n",
    "    t1 = time.time()\n",
    "    X = np.arange(10000000)\n",
    "    Y = np.arange(10000000)\n",
    "    Z = X + Y\n",
    "    return time.time() - t1\n",
    "numpy_version()"
   ]
  },
  {
   "cell_type": "markdown",
   "id": "5208d49a-6cd6-47a4-a3e0-21e4a9f9ed66",
   "metadata": {},
   "source": [
    "## list to array\n",
    "---"
   ]
  },
  {
   "cell_type": "code",
   "execution_count": 4,
   "id": "167d56f0-812d-4df4-beca-e1c694347fca",
   "metadata": {},
   "outputs": [
    {
     "data": {
      "text/plain": [
       "[10, 20, 30, 40, 50, 60]"
      ]
     },
     "execution_count": 4,
     "metadata": {},
     "output_type": "execute_result"
    }
   ],
   "source": [
    "list1 = [10,20,30,40,50,60]\n",
    "list1"
   ]
  },
  {
   "cell_type": "code",
   "execution_count": 5,
   "id": "aab11f85-9e3c-4ea4-8b5c-bd020bd6fcec",
   "metadata": {},
   "outputs": [
    {
     "data": {
      "text/plain": [
       "array([10, 20, 30, 40, 50, 60])"
      ]
     },
     "execution_count": 5,
     "metadata": {},
     "output_type": "execute_result"
    }
   ],
   "source": [
    "arr1 = np.array(list1)\n",
    "arr1"
   ]
  },
  {
   "cell_type": "code",
   "execution_count": 6,
   "id": "01df4aec-743d-4fb0-bf21-56c78f9fade5",
   "metadata": {},
   "outputs": [
    {
     "data": {
      "text/plain": [
       "numpy.ndarray"
      ]
     },
     "execution_count": 6,
     "metadata": {},
     "output_type": "execute_result"
    }
   ],
   "source": [
    "type(arr1)"
   ]
  },
  {
   "cell_type": "markdown",
   "id": "23feed05-03e7-40d8-a344-812978d6bb24",
   "metadata": {},
   "source": [
    "---"
   ]
  },
  {
   "cell_type": "markdown",
   "id": "dfb139a8-4759-4e81-93aa-db1f1d892bc6",
   "metadata": {},
   "source": [
    "### Arrayin içindeki verinin tipi (dtype)\n",
    "---"
   ]
  },
  {
   "cell_type": "code",
   "execution_count": 7,
   "id": "0433f893-8705-473c-b480-2d7a25476c9b",
   "metadata": {},
   "outputs": [
    {
     "data": {
      "text/plain": [
       "dtype('int64')"
      ]
     },
     "execution_count": 7,
     "metadata": {},
     "output_type": "execute_result"
    }
   ],
   "source": [
    "arr1.dtype"
   ]
  },
  {
   "cell_type": "markdown",
   "id": "6d42192a-9504-47cd-af6b-08902f04ebf0",
   "metadata": {},
   "source": [
    "---"
   ]
  },
  {
   "cell_type": "markdown",
   "id": "04fb12b2-3813-440e-92b3-4ae9fc44b805",
   "metadata": {},
   "source": [
    "### Tip değiştirme (astype())\n",
    "---"
   ]
  },
  {
   "cell_type": "code",
   "execution_count": 8,
   "id": "51b9570a-a27e-40c0-a8e6-a08469436a38",
   "metadata": {},
   "outputs": [
    {
     "data": {
      "text/plain": [
       "array([10., 20., 30., 40., 50., 60.])"
      ]
     },
     "execution_count": 8,
     "metadata": {},
     "output_type": "execute_result"
    }
   ],
   "source": [
    "arr1.astype(float)"
   ]
  },
  {
   "cell_type": "markdown",
   "id": "31c74151-9082-4d91-b4ab-b63ffb993ea6",
   "metadata": {},
   "source": [
    "---"
   ]
  },
  {
   "cell_type": "markdown",
   "id": "7bee3807-be48-4aae-ad93-b1d326e76895",
   "metadata": {},
   "source": [
    "### Python range() = Numpy arange()\n",
    "---"
   ]
  },
  {
   "cell_type": "code",
   "execution_count": 9,
   "id": "df3835f2-bb0d-42b2-ab1c-5ad83f6c5d5d",
   "metadata": {},
   "outputs": [
    {
     "data": {
      "text/plain": [
       "array([0, 1, 2, 3, 4, 5, 6, 7, 8, 9])"
      ]
     },
     "execution_count": 9,
     "metadata": {},
     "output_type": "execute_result"
    }
   ],
   "source": [
    "np.arange(0, 10)"
   ]
  },
  {
   "cell_type": "code",
   "execution_count": 10,
   "id": "eed8dd14-0aa4-4192-b550-70cf04379116",
   "metadata": {},
   "outputs": [
    {
     "data": {
      "text/plain": [
       "array([ 0, 10, 20, 30, 40, 50, 60, 70, 80, 90])"
      ]
     },
     "execution_count": 10,
     "metadata": {},
     "output_type": "execute_result"
    }
   ],
   "source": [
    "np.arange(0,100,10)"
   ]
  },
  {
   "cell_type": "code",
   "execution_count": 11,
   "id": "c9aa95b6-ab9d-4afd-ac99-37fadfb2e10c",
   "metadata": {},
   "outputs": [
    {
     "data": {
      "text/plain": [
       "array([100,  90,  80,  70,  60,  50,  40,  30,  20])"
      ]
     },
     "execution_count": 11,
     "metadata": {},
     "output_type": "execute_result"
    }
   ],
   "source": [
    "np.arange(100,10,-10)"
   ]
  },
  {
   "cell_type": "code",
   "execution_count": 12,
   "id": "96b42240-9883-440d-a2cd-3ea91e94da75",
   "metadata": {},
   "outputs": [],
   "source": [
    "arr3 = np.arange(0,10)"
   ]
  },
  {
   "cell_type": "code",
   "execution_count": 13,
   "id": "508fa0f0-0576-4854-be27-cd4173bcb724",
   "metadata": {},
   "outputs": [
    {
     "name": "stdout",
     "output_type": "stream",
     "text": [
      "(10,) 10 1 int64 8 80\n"
     ]
    }
   ],
   "source": [
    "print(arr3.shape,arr3.size,arr3.ndim,arr3.dtype,arr3.itemsize,arr3.nbytes)"
   ]
  },
  {
   "cell_type": "markdown",
   "id": "b93a91aa-4857-4cbf-a55a-e3cddc8c9fdc",
   "metadata": {},
   "source": [
    "---"
   ]
  },
  {
   "cell_type": "markdown",
   "id": "1b0e6293-07fc-4130-b361-e6ddb9eb54c0",
   "metadata": {},
   "source": [
    "### 0 lar ile array oluşturma (np.zeros())\n",
    "---"
   ]
  },
  {
   "cell_type": "code",
   "execution_count": 14,
   "id": "1a5deb5f-9761-45ee-b035-45dd57205b78",
   "metadata": {},
   "outputs": [
    {
     "data": {
      "text/plain": [
       "array([0., 0., 0., 0., 0., 0., 0., 0., 0., 0.])"
      ]
     },
     "execution_count": 14,
     "metadata": {},
     "output_type": "execute_result"
    }
   ],
   "source": [
    "np.zeros(10)"
   ]
  },
  {
   "cell_type": "markdown",
   "id": "d948ec7c-45db-4803-adbb-d7ab9f97d266",
   "metadata": {},
   "source": [
    "---"
   ]
  },
  {
   "cell_type": "markdown",
   "id": "a00e6a6b-94eb-4082-a15d-e9ed3b4c6d8d",
   "metadata": {},
   "source": [
    "### 1 ler ile array oluşturma (np.ones())\n",
    "---"
   ]
  },
  {
   "cell_type": "code",
   "execution_count": 15,
   "id": "d54c10a4-52b1-49d2-819f-ecb51dedd620",
   "metadata": {},
   "outputs": [
    {
     "data": {
      "text/plain": [
       "array([1., 1., 1., 1., 1., 1., 1., 1., 1., 1.])"
      ]
     },
     "execution_count": 15,
     "metadata": {},
     "output_type": "execute_result"
    }
   ],
   "source": [
    "np.ones(10)"
   ]
  },
  {
   "cell_type": "code",
   "execution_count": 16,
   "id": "c2430d77-6574-4539-9e56-ef5b3c179ebb",
   "metadata": {},
   "outputs": [
    {
     "data": {
      "text/plain": [
       "array([10, 10, 10, 10, 10])"
      ]
     },
     "execution_count": 16,
     "metadata": {},
     "output_type": "execute_result"
    }
   ],
   "source": [
    "np.repeat(10,5)"
   ]
  },
  {
   "cell_type": "code",
   "execution_count": 17,
   "id": "92d28105-c846-4d24-ad9c-ca23a3f15ebc",
   "metadata": {},
   "outputs": [
    {
     "data": {
      "text/plain": [
       "array([10, 10, 10, 10, 10])"
      ]
     },
     "execution_count": 17,
     "metadata": {},
     "output_type": "execute_result"
    }
   ],
   "source": [
    "np.full(5,10)"
   ]
  },
  {
   "cell_type": "markdown",
   "id": "1c839d3b-67fb-4da3-8f8d-686f97e7e34b",
   "metadata": {},
   "source": [
    "---"
   ]
  },
  {
   "cell_type": "markdown",
   "id": "723b480f-ea19-4a78-99ae-d9550a21f0ab",
   "metadata": {},
   "source": [
    "### Numpy da filtreleme\n",
    "---"
   ]
  },
  {
   "cell_type": "code",
   "execution_count": 18,
   "id": "0c988608-4ec9-42fd-a365-5474775f75d6",
   "metadata": {},
   "outputs": [
    {
     "data": {
      "text/plain": [
       "array([ 1,  3,  5,  7,  9, 11, 13, 15, 17, 19])"
      ]
     },
     "execution_count": 18,
     "metadata": {},
     "output_type": "execute_result"
    }
   ],
   "source": [
    "ar1 = np.arange(1,20)\n",
    "ar1[ar1%2==1] # ar1 içerisindeki verilerden tek sayı olanlar"
   ]
  },
  {
   "cell_type": "markdown",
   "id": "a94aa4fe-4d8d-45bb-a503-b303599c3db5",
   "metadata": {},
   "source": [
    "---"
   ]
  },
  {
   "cell_type": "markdown",
   "id": "4c438f35-31b4-417d-81e1-c3f97c950173",
   "metadata": {},
   "source": [
    "### Random sayı oluşturma -1<1\n",
    "---"
   ]
  },
  {
   "cell_type": "code",
   "execution_count": 19,
   "id": "d0f8a8e4-814f-4f32-87f7-e91255273f94",
   "metadata": {},
   "outputs": [
    {
     "data": {
      "text/plain": [
       "array([0.6812998 , 0.24939667, 0.17629632, 0.94782438])"
      ]
     },
     "execution_count": 19,
     "metadata": {},
     "output_type": "execute_result"
    }
   ],
   "source": [
    "np.random.random(4)"
   ]
  },
  {
   "cell_type": "markdown",
   "id": "b5c8aefb-6503-4aa9-b65c-9d9c6b3dd53c",
   "metadata": {},
   "source": [
    "---"
   ]
  },
  {
   "cell_type": "markdown",
   "id": "65c26e05-c35a-4532-9097-83bbf8ff08d6",
   "metadata": {},
   "source": [
    "### random.randint\n",
    "---"
   ]
  },
  {
   "cell_type": "code",
   "execution_count": 20,
   "id": "9b580d73-be66-4455-8a29-32b333b11e83",
   "metadata": {},
   "outputs": [
    {
     "data": {
      "text/plain": [
       "array([ 57,  55, 181, 353, 469])"
      ]
     },
     "execution_count": 20,
     "metadata": {},
     "output_type": "execute_result"
    }
   ],
   "source": [
    "#0 dan 500 e kadar 5 farklı sayı üret\n",
    "np.random.randint(0,500,5)"
   ]
  },
  {
   "cell_type": "markdown",
   "id": "59be389b-78f5-479e-b877-fe83865a138d",
   "metadata": {},
   "source": [
    "---"
   ]
  },
  {
   "cell_type": "markdown",
   "id": "50949e97-e9a2-4b97-aed7-3433bd545c00",
   "metadata": {},
   "source": [
    "### random.seed() kullanımı\n",
    "---"
   ]
  },
  {
   "cell_type": "code",
   "execution_count": 21,
   "id": "baf80619-c3ba-4cf5-949d-36b3d450276b",
   "metadata": {},
   "outputs": [
    {
     "data": {
      "text/plain": [
       "array([66, 92, 98, 17, 83, 57, 86, 97, 96, 47])"
      ]
     },
     "execution_count": 21,
     "metadata": {},
     "output_type": "execute_result"
    }
   ],
   "source": [
    "#çekirdek değeri aynı sayıları tekrar üretmek için kullanılır\n",
    "np.random.seed(123)\n",
    "np.random.randint(0,100,10)"
   ]
  },
  {
   "cell_type": "code",
   "execution_count": 22,
   "id": "7b6920ff-deea-4d8a-a94d-c05412a8a362",
   "metadata": {},
   "outputs": [
    {
     "data": {
      "text/plain": [
       "array([95, 11, 81, 70, 63, 87, 75,  9, 77, 40])"
      ]
     },
     "execution_count": 22,
     "metadata": {},
     "output_type": "execute_result"
    }
   ],
   "source": [
    "np.random.seed(101)\n",
    "np.random.randint(0,100,10)"
   ]
  },
  {
   "cell_type": "code",
   "execution_count": 23,
   "id": "528cdcfa-4a0d-408f-bcd6-dca7b0b674f4",
   "metadata": {},
   "outputs": [
    {
     "data": {
      "text/plain": [
       "array([95, 11, 81, 70, 63, 87, 75,  9, 77, 40])"
      ]
     },
     "execution_count": 23,
     "metadata": {},
     "output_type": "execute_result"
    }
   ],
   "source": [
    "np.random.seed(101)\n",
    "np.random.randint(0,100,10)"
   ]
  },
  {
   "cell_type": "markdown",
   "id": "20c5f51a-f795-4336-a515-8ea1dfc15be2",
   "metadata": {},
   "source": [
    "---"
   ]
  },
  {
   "cell_type": "markdown",
   "id": "384ec8d3-8655-44d3-b96c-aef97916afd5",
   "metadata": {},
   "source": [
    "### ndenumerate \n",
    "* for döngülerinde değişkenlerin indexine de erişmek için kullanılır\n",
    "***"
   ]
  },
  {
   "cell_type": "code",
   "execution_count": 24,
   "id": "0982e7e8-4be9-4a12-8ba1-613197200750",
   "metadata": {},
   "outputs": [
    {
     "data": {
      "text/plain": [
       "array([10, 20, 30, 40, 50, 60])"
      ]
     },
     "execution_count": 24,
     "metadata": {},
     "output_type": "execute_result"
    }
   ],
   "source": [
    "arr1"
   ]
  },
  {
   "cell_type": "code",
   "execution_count": 25,
   "id": "2aeceb36-543e-4f23-a0a0-6e7c31f8225a",
   "metadata": {},
   "outputs": [
    {
     "name": "stdout",
     "output_type": "stream",
     "text": [
      "(0,) 10\n",
      "(1,) 20\n",
      "(2,) 30\n",
      "(3,) 40\n",
      "(4,) 50\n",
      "(5,) 60\n"
     ]
    }
   ],
   "source": [
    "for index, value in np.ndenumerate(arr1):\n",
    "    print(index, value)"
   ]
  },
  {
   "cell_type": "markdown",
   "id": "bbe2693b-6410-48c3-833e-662c32552fde",
   "metadata": {},
   "source": [
    "---"
   ]
  },
  {
   "cell_type": "markdown",
   "id": "53a9b1d6-cce8-49f8-ac45-16fced85f077",
   "metadata": {},
   "source": [
    "### median()\n",
    "* İçerisine gönderdiğiniz array'in medyanını bulmak için kullanılır\n"
   ]
  },
  {
   "cell_type": "code",
   "execution_count": 26,
   "id": "2fe0edeb-12d3-421e-894b-3e0928f7b267",
   "metadata": {},
   "outputs": [
    {
     "data": {
      "text/plain": [
       "array([ 1,  2,  3,  4,  5,  6,  7,  8,  9, 10, 11, 12, 13, 14, 15, 16, 17,\n",
       "       18, 19])"
      ]
     },
     "execution_count": 26,
     "metadata": {},
     "output_type": "execute_result"
    }
   ],
   "source": [
    "arr2 = np.arange(1,20)\n",
    "arr2"
   ]
  },
  {
   "cell_type": "code",
   "execution_count": 27,
   "id": "95fcd922-b824-44c0-8b23-07169528db57",
   "metadata": {},
   "outputs": [
    {
     "data": {
      "text/plain": [
       "10.0"
      ]
     },
     "execution_count": 27,
     "metadata": {},
     "output_type": "execute_result"
    }
   ],
   "source": [
    "np.median(arr2)"
   ]
  },
  {
   "cell_type": "markdown",
   "id": "286d052a-162c-42e5-9d8d-3882d6ec157f",
   "metadata": {},
   "source": [
    "---"
   ]
  },
  {
   "cell_type": "markdown",
   "id": "02928689-14f6-48db-8b0c-5827f88b4690",
   "metadata": {},
   "source": [
    "### cumsum()\n",
    "* İçerisine gönderdiğiniz array'in kümülatif toplamını verir"
   ]
  },
  {
   "cell_type": "code",
   "execution_count": 28,
   "id": "a7dc8aac-7f39-4c29-b721-10875120236e",
   "metadata": {},
   "outputs": [
    {
     "data": {
      "text/plain": [
       "array([  1,   3,   6,  10,  15,  21,  28,  36,  45,  55,  66,  78,  91,\n",
       "       105, 120, 136, 153, 171, 190])"
      ]
     },
     "execution_count": 28,
     "metadata": {},
     "output_type": "execute_result"
    }
   ],
   "source": [
    "np.cumsum(arr2)"
   ]
  },
  {
   "cell_type": "markdown",
   "id": "34c0f827-c729-4c74-8cb7-54bea94c064d",
   "metadata": {},
   "source": [
    "---"
   ]
  },
  {
   "cell_type": "markdown",
   "id": "ee068cac-af4f-4447-aaa6-11af872ae76e",
   "metadata": {},
   "source": [
    "### amin()\n",
    "* İçerisine gönderdiğiniz arrayin axis e göre sütun veya satırlarının minimum değerlerini döndürür"
   ]
  },
  {
   "cell_type": "code",
   "execution_count": 29,
   "id": "84155120-34b8-40f0-b204-bf809f41213d",
   "metadata": {},
   "outputs": [
    {
     "data": {
      "text/plain": [
       "array([[ 1,  2,  3,  0],\n",
       "       [ 5,  6,  7, 22],\n",
       "       [10, 11,  1,  3],\n",
       "       [14, 15, 16,  3]])"
      ]
     },
     "execution_count": 29,
     "metadata": {},
     "output_type": "execute_result"
    }
   ],
   "source": [
    "A = np.array([[1,2,3,0],[5,6,7,22],[10,11,1,3],[14,15,16,3]])\n",
    "A"
   ]
  },
  {
   "cell_type": "code",
   "execution_count": 30,
   "id": "835b6858-26c6-4faf-b16b-1dd47ca5558e",
   "metadata": {},
   "outputs": [
    {
     "data": {
      "text/plain": [
       "array([1, 2, 1, 0])"
      ]
     },
     "execution_count": 30,
     "metadata": {},
     "output_type": "execute_result"
    }
   ],
   "source": [
    "#Sütunların en küçük değerleri\n",
    "np.amin(A, axis=0)"
   ]
  },
  {
   "cell_type": "code",
   "execution_count": 31,
   "id": "7f6fa509-1b03-4113-abcf-245d6bdd76cd",
   "metadata": {},
   "outputs": [
    {
     "data": {
      "text/plain": [
       "array([0, 5, 1, 3])"
      ]
     },
     "execution_count": 31,
     "metadata": {},
     "output_type": "execute_result"
    }
   ],
   "source": [
    "#Satırların en küçük değerleri\n",
    "np.amin(A, axis=1)"
   ]
  },
  {
   "cell_type": "markdown",
   "id": "0ccedac5-7788-4287-a3d5-20372c70098b",
   "metadata": {},
   "source": [
    "---"
   ]
  },
  {
   "cell_type": "markdown",
   "id": "020b1cc6-c2b7-4754-a182-48bd74d8dc9f",
   "metadata": {},
   "source": [
    "### std()\n",
    "* İçerisine gönderdiğiniz array'in standart sapmasını döner"
   ]
  },
  {
   "cell_type": "code",
   "execution_count": 32,
   "id": "452255ff-fa3f-46ea-91a6-46c4c2e9e721",
   "metadata": {},
   "outputs": [
    {
     "data": {
      "text/plain": [
       "6.324246496619182"
      ]
     },
     "execution_count": 32,
     "metadata": {},
     "output_type": "execute_result"
    }
   ],
   "source": [
    "np.std(A)"
   ]
  },
  {
   "cell_type": "markdown",
   "id": "28b471c2-6805-49ce-9a10-2f524241ea6f",
   "metadata": {},
   "source": [
    "---"
   ]
  },
  {
   "cell_type": "markdown",
   "id": "0924e721-9245-4826-8900-2fb01922d87c",
   "metadata": {},
   "source": [
    "### Array'in içerisine index ile ulaşma"
   ]
  },
  {
   "cell_type": "code",
   "execution_count": 33,
   "id": "0c8f03e0-8fed-4312-8cb9-8aa56ba1f721",
   "metadata": {},
   "outputs": [
    {
     "data": {
      "text/plain": [
       "7"
      ]
     },
     "execution_count": 33,
     "metadata": {},
     "output_type": "execute_result"
    }
   ],
   "source": [
    "a = np.array([7,5,3,9,0,2])\n",
    "a[0]"
   ]
  },
  {
   "cell_type": "code",
   "execution_count": 34,
   "id": "768ec228-3ac0-4e2c-abd1-321027930f42",
   "metadata": {},
   "outputs": [
    {
     "data": {
      "text/plain": [
       "array([5, 3, 9])"
      ]
     },
     "execution_count": 34,
     "metadata": {},
     "output_type": "execute_result"
    }
   ],
   "source": [
    "a[1:4]"
   ]
  },
  {
   "cell_type": "code",
   "execution_count": 35,
   "id": "755a7377-ea54-4570-b8ef-412711912d14",
   "metadata": {},
   "outputs": [
    {
     "data": {
      "text/plain": [
       "2"
      ]
     },
     "execution_count": 35,
     "metadata": {},
     "output_type": "execute_result"
    }
   ],
   "source": [
    "a[-1]"
   ]
  },
  {
   "cell_type": "markdown",
   "id": "d616aa9b-0f26-43af-9cd2-9cc62e09974f",
   "metadata": {},
   "source": [
    "---"
   ]
  },
  {
   "cell_type": "markdown",
   "id": "0436ac47-b3c9-4b17-82dc-c1d45dbfef89",
   "metadata": {},
   "source": [
    "### where kullanımı\n",
    "* Bir koşula dayalı olarak bir arraydan yeni bir array yaratmak"
   ]
  },
  {
   "cell_type": "code",
   "execution_count": 36,
   "id": "be69b7fd-7dfc-4880-ae47-4bb7cc954a0a",
   "metadata": {},
   "outputs": [],
   "source": [
    "ar = np.arange(1,20)"
   ]
  },
  {
   "cell_type": "code",
   "execution_count": 37,
   "id": "64ed1335-6f01-470e-920a-ebed529f3fea",
   "metadata": {},
   "outputs": [
    {
     "name": "stdout",
     "output_type": "stream",
     "text": [
      "[ 1  0  3  0  5  0  7  0  9  0 11  0 13  0 15  0 17  0 19]\n"
     ]
    }
   ],
   "source": [
    "# ar arrayin içerisindeki çift sayıların yerine 0 yaz ve rep1 e at\n",
    "rep1= np.where(ar%2==0, 0, ar)\n",
    "print(rep1)"
   ]
  },
  {
   "cell_type": "code",
   "execution_count": 38,
   "id": "6364dfd5-c78d-49fd-b425-1720f4f615bf",
   "metadata": {},
   "outputs": [],
   "source": [
    "ar2 = np.array([10,20,30,10,10,20,20])"
   ]
  },
  {
   "cell_type": "code",
   "execution_count": 39,
   "id": "fb7042ff-a9e4-4612-8fa1-8d3deef8236a",
   "metadata": {},
   "outputs": [
    {
     "name": "stdout",
     "output_type": "stream",
     "text": [
      "[99 20 30 99 99 20 20]\n"
     ]
    }
   ],
   "source": [
    "# ar2 arrayinin içerisindeki 10 a eşit değerleri 99 ile değiştir ve bunu rep2 at\n",
    "rep2 = np.where(ar2 == 10, 99, ar2)\n",
    "print(rep2)"
   ]
  },
  {
   "cell_type": "code",
   "execution_count": 40,
   "id": "78381174-6afb-4528-b968-2d59ec71af96",
   "metadata": {},
   "outputs": [
    {
     "data": {
      "text/plain": [
       "array([21, 22, 23, 24, 25, 26, 27, 28, 29, 30, 31, 32, 33, 34])"
      ]
     },
     "execution_count": 40,
     "metadata": {},
     "output_type": "execute_result"
    }
   ],
   "source": [
    "a1 = np.arange(0,60)\n",
    "a1[np.where((a1>20)&(a1<35))]"
   ]
  },
  {
   "cell_type": "markdown",
   "id": "7de96b28-e1ea-42c3-aad9-de2d15a6b5be",
   "metadata": {},
   "source": [
    "---"
   ]
  },
  {
   "cell_type": "markdown",
   "id": "9a54585a-b193-4cf8-812e-14d986315a5b",
   "metadata": {},
   "source": [
    "### put()\n",
    "* Bir arrayin belirli indexlerdeki değerleri değiştirme"
   ]
  },
  {
   "cell_type": "code",
   "execution_count": 41,
   "id": "feae9f2f-3dd7-4994-ab5b-b77a66263dd5",
   "metadata": {},
   "outputs": [],
   "source": [
    "p2 = np.arange(0,100,10)"
   ]
  },
  {
   "cell_type": "code",
   "execution_count": 42,
   "id": "1bfe3011-8876-4cb5-b7b6-b18c69483008",
   "metadata": {},
   "outputs": [
    {
     "data": {
      "text/plain": [
       "array([22, 10, 20, 34, 40, 56, 60, 70, 80, 90])"
      ]
     },
     "execution_count": 42,
     "metadata": {},
     "output_type": "execute_result"
    }
   ],
   "source": [
    "# p2 arrayinin 0.3.5 indexlerindeki değerleri sırası ile 22 34 56 değerleri ile değiştir\n",
    "np.put(p2, [0,3,5],[22,34,56])\n",
    "p2"
   ]
  },
  {
   "cell_type": "markdown",
   "id": "6d5d96f3-6707-47d3-954f-5df4e6fe0377",
   "metadata": {},
   "source": [
    "---"
   ]
  },
  {
   "cell_type": "markdown",
   "id": "a21617b7-fe82-4f1d-ab15-710a948f886f",
   "metadata": {},
   "source": [
    "### Eksik değerler ile ilgilenme (Missing Values)"
   ]
  },
  {
   "cell_type": "code",
   "execution_count": 43,
   "id": "d9ffd319-eb1f-4bdb-a2f5-f61b88a7ce23",
   "metadata": {},
   "outputs": [
    {
     "data": {
      "text/plain": [
       "array([10., nan, 20., 30., 60., nan, 90., inf])"
      ]
     },
     "execution_count": 43,
     "metadata": {},
     "output_type": "execute_result"
    }
   ],
   "source": [
    "a = np.array([10,np.nan,20,30,60,np.nan,90,np.inf])\n",
    "a"
   ]
  },
  {
   "cell_type": "code",
   "execution_count": 44,
   "id": "e9667c12-9f99-4f8e-acf7-367ff942192a",
   "metadata": {},
   "outputs": [
    {
     "data": {
      "text/plain": [
       "array([False,  True, False, False, False,  True, False, False])"
      ]
     },
     "execution_count": 44,
     "metadata": {},
     "output_type": "execute_result"
    }
   ],
   "source": [
    "np.isnan(a)"
   ]
  },
  {
   "cell_type": "code",
   "execution_count": 45,
   "id": "af06e9a1-270d-4a56-9f4d-4890eb85489a",
   "metadata": {},
   "outputs": [
    {
     "data": {
      "text/plain": [
       "(array([1, 5]),)"
      ]
     },
     "execution_count": 45,
     "metadata": {},
     "output_type": "execute_result"
    }
   ],
   "source": [
    "# nan değerlerin hangi indexlerde olduğunu verir\n",
    "np.where(np.isnan(a))"
   ]
  },
  {
   "cell_type": "code",
   "execution_count": 46,
   "id": "bd5bbff8-4aaa-4992-8fc5-402ab3b7f659",
   "metadata": {},
   "outputs": [
    {
     "data": {
      "text/plain": [
       "array([10., 99., 20., 30., 60., 99., 90., inf])"
      ]
     },
     "execution_count": 46,
     "metadata": {},
     "output_type": "execute_result"
    }
   ],
   "source": [
    "# nan değerleri doldurma\n",
    "a[np.isnan(a)]= 99\n",
    "a"
   ]
  },
  {
   "cell_type": "code",
   "execution_count": 47,
   "id": "916698b7-6c5d-44a5-8988-99f48ff531dd",
   "metadata": {},
   "outputs": [
    {
     "data": {
      "text/plain": [
       "False"
      ]
     },
     "execution_count": 47,
     "metadata": {},
     "output_type": "execute_result"
    }
   ],
   "source": [
    "np.isnan(a).any()"
   ]
  },
  {
   "cell_type": "markdown",
   "id": "74b8680f-13f1-48cc-992d-b8dbec332127",
   "metadata": {},
   "source": [
    "---"
   ]
  },
  {
   "cell_type": "markdown",
   "id": "703202b4-64fb-42f6-bf70-b8182bc761e7",
   "metadata": {},
   "source": [
    "### Dizileri birleştirme (yatay ve dikey)"
   ]
  },
  {
   "cell_type": "code",
   "execution_count": 48,
   "id": "684bce3a-d355-4846-9944-ee6d68e333c8",
   "metadata": {},
   "outputs": [],
   "source": [
    "a = np.zeros(20).reshape(2, -1)\n",
    "b = np.repeat(1,20).reshape(2, -1)"
   ]
  },
  {
   "cell_type": "code",
   "execution_count": 49,
   "id": "eb7d55e5-3e97-4225-9b4c-1a16af9144be",
   "metadata": {},
   "outputs": [
    {
     "data": {
      "text/plain": [
       "array([[0., 0., 0., 0., 0., 0., 0., 0., 0., 0.],\n",
       "       [0., 0., 0., 0., 0., 0., 0., 0., 0., 0.],\n",
       "       [1., 1., 1., 1., 1., 1., 1., 1., 1., 1.],\n",
       "       [1., 1., 1., 1., 1., 1., 1., 1., 1., 1.]])"
      ]
     },
     "execution_count": 49,
     "metadata": {},
     "output_type": "execute_result"
    }
   ],
   "source": [
    "# Vertical dikey olarak birleştirir\n",
    "np.vstack([a,b])"
   ]
  },
  {
   "cell_type": "code",
   "execution_count": 50,
   "id": "a7d09a37-2355-4fd8-9a73-578e4cf80a8a",
   "metadata": {},
   "outputs": [
    {
     "data": {
      "text/plain": [
       "array([[0., 0., 0., 0., 0., 0., 0., 0., 0., 0., 1., 1., 1., 1., 1., 1.,\n",
       "        1., 1., 1., 1.],\n",
       "       [0., 0., 0., 0., 0., 0., 0., 0., 0., 0., 1., 1., 1., 1., 1., 1.,\n",
       "        1., 1., 1., 1.]])"
      ]
     },
     "execution_count": 50,
     "metadata": {},
     "output_type": "execute_result"
    }
   ],
   "source": [
    "# Horizontal yatay olarak birleştirir\n",
    "np.hstack([a,b])"
   ]
  },
  {
   "cell_type": "markdown",
   "id": "5660ceea-68ec-4307-844d-93dc37e2448c",
   "metadata": {},
   "source": [
    "---"
   ]
  },
  {
   "cell_type": "markdown",
   "id": "b12fc1f3-89ed-4cb4-9afa-f107d358b000",
   "metadata": {},
   "source": [
    "### intersect1d\n",
    "* iki arrayin ortak değerleri, kesişim kümesi bir array olarak döndürür"
   ]
  },
  {
   "cell_type": "code",
   "execution_count": 51,
   "id": "c9e913b3-9cbd-48c8-af2e-0ae19c9d23fc",
   "metadata": {},
   "outputs": [
    {
     "data": {
      "text/plain": [
       "array([20, 40, 60])"
      ]
     },
     "execution_count": 51,
     "metadata": {},
     "output_type": "execute_result"
    }
   ],
   "source": [
    "c1 = np.array([10,20,30,40,50,60])\n",
    "c2 = np.array([12,20,33,40,55,60])\n",
    "\n",
    "np.intersect1d(c1,c2)"
   ]
  },
  {
   "cell_type": "markdown",
   "id": "1db9f0fe-fbb3-4162-b5ae-97468e7b265f",
   "metadata": {},
   "source": [
    "---"
   ]
  },
  {
   "cell_type": "markdown",
   "id": "1e946dd7-26e2-4ed9-834e-7394cab9a421",
   "metadata": {},
   "source": [
    "### setdiff1d\n",
    "* ilk arrayin diğer arrayden farklı olan değerlerini döndürür."
   ]
  },
  {
   "cell_type": "code",
   "execution_count": 52,
   "id": "e4181661-c1e5-4129-b81c-8b4f5d5536ee",
   "metadata": {},
   "outputs": [
    {
     "data": {
      "text/plain": [
       "array([10, 30, 50])"
      ]
     },
     "execution_count": 52,
     "metadata": {},
     "output_type": "execute_result"
    }
   ],
   "source": [
    "np.setdiff1d(c1,c2)"
   ]
  },
  {
   "cell_type": "markdown",
   "id": "824d8e0c-a9cf-43de-8030-a51919612de5",
   "metadata": {},
   "source": [
    "---"
   ]
  },
  {
   "cell_type": "markdown",
   "id": "849a51cd-e738-467c-be48-a88947da3b8e",
   "metadata": {},
   "source": [
    "### isin()\n",
    "* Bulunurluk kontrolü yapar"
   ]
  },
  {
   "cell_type": "code",
   "execution_count": 53,
   "id": "46da6290-1731-4e1f-a5fa-c05ca28f6800",
   "metadata": {},
   "outputs": [
    {
     "data": {
      "text/plain": [
       "array([10, 20, 30, 40, 50, 60, 70])"
      ]
     },
     "execution_count": 53,
     "metadata": {},
     "output_type": "execute_result"
    }
   ],
   "source": [
    "a = np.arange(10,80,10)\n",
    "a"
   ]
  },
  {
   "cell_type": "code",
   "execution_count": 54,
   "id": "48ce2eaa-c8fc-4a13-8f4b-d0cdd1cce49b",
   "metadata": {},
   "outputs": [
    {
     "data": {
      "text/plain": [
       "array([False,  True, False, False, False, False, False])"
      ]
     },
     "execution_count": 54,
     "metadata": {},
     "output_type": "execute_result"
    }
   ],
   "source": [
    "# 11 ve 20 değerleri a arrayinde var mı\n",
    "np.isin(a, [11,20])"
   ]
  },
  {
   "cell_type": "code",
   "execution_count": 55,
   "id": "19b150b9-581a-4467-815e-baf5938c9619",
   "metadata": {},
   "outputs": [
    {
     "data": {
      "text/plain": [
       "array([20])"
      ]
     },
     "execution_count": 55,
     "metadata": {},
     "output_type": "execute_result"
    }
   ],
   "source": [
    "a[np.isin(a,20)]"
   ]
  },
  {
   "cell_type": "code",
   "execution_count": 56,
   "id": "c9f25abc-c021-488f-9f2c-8f293db0b8a8",
   "metadata": {},
   "outputs": [
    {
     "data": {
      "text/plain": [
       "array([False, False, False, False, False, False, False])"
      ]
     },
     "execution_count": 56,
     "metadata": {},
     "output_type": "execute_result"
    }
   ],
   "source": [
    "np.isin(a,33)"
   ]
  },
  {
   "cell_type": "code",
   "execution_count": 57,
   "id": "936916f8-7a44-4a42-831e-b7ac7bffe7df",
   "metadata": {},
   "outputs": [
    {
     "data": {
      "text/plain": [
       "array([10, 20, 30, 40, 10, 10, 70, 80, 70, 90])"
      ]
     },
     "execution_count": 57,
     "metadata": {},
     "output_type": "execute_result"
    }
   ],
   "source": [
    "b = np.array([10,20,30,40,10,10,70,80,70,90])\n",
    "b"
   ]
  },
  {
   "cell_type": "code",
   "execution_count": 58,
   "id": "b058c840-1c2b-4216-bf26-d182e935c169",
   "metadata": {},
   "outputs": [
    {
     "data": {
      "text/plain": [
       "array([ True, False, False, False,  True,  True,  True, False,  True,\n",
       "       False])"
      ]
     },
     "execution_count": 58,
     "metadata": {},
     "output_type": "execute_result"
    }
   ],
   "source": [
    "np.isin(b, [10,70])"
   ]
  },
  {
   "cell_type": "code",
   "execution_count": 59,
   "id": "131fc1ec-73b0-4c1d-ab24-ce15e0fcf4c0",
   "metadata": {},
   "outputs": [
    {
     "data": {
      "text/plain": [
       "(array([0, 4, 5, 6, 8]),)"
      ]
     },
     "execution_count": 59,
     "metadata": {},
     "output_type": "execute_result"
    }
   ],
   "source": [
    "np.where(np.isin(b,[10,70]))"
   ]
  },
  {
   "cell_type": "markdown",
   "id": "7a555b72-2028-4918-8019-79da76d6bad5",
   "metadata": {},
   "source": [
    "---"
   ]
  },
  {
   "cell_type": "markdown",
   "id": "feab7e1c-b79c-4493-ac35-e5947da14f7b",
   "metadata": {},
   "source": [
    "### Diziyi ters çevirme"
   ]
  },
  {
   "cell_type": "code",
   "execution_count": 60,
   "id": "9872d67d-c968-4096-9ceb-c787287a9ddd",
   "metadata": {},
   "outputs": [
    {
     "data": {
      "text/plain": [
       "array([10, 11, 12, 13, 14, 15, 16, 17, 18, 19, 20, 21, 22, 23, 24, 25, 26,\n",
       "       27, 28, 29])"
      ]
     },
     "execution_count": 60,
     "metadata": {},
     "output_type": "execute_result"
    }
   ],
   "source": [
    "a4 = np.arange(10,30)\n",
    "a4"
   ]
  },
  {
   "cell_type": "code",
   "execution_count": 61,
   "id": "218c13bb-a417-4146-ad36-e1896edafc0e",
   "metadata": {},
   "outputs": [
    {
     "data": {
      "text/plain": [
       "array([29, 28, 27, 26, 25, 24, 23, 22, 21, 20, 19, 18, 17, 16, 15, 14, 13,\n",
       "       12, 11, 10])"
      ]
     },
     "execution_count": 61,
     "metadata": {},
     "output_type": "execute_result"
    }
   ],
   "source": [
    "#1\n",
    "a4[::-1]"
   ]
  },
  {
   "cell_type": "code",
   "execution_count": 62,
   "id": "8fb0d621-534b-4908-ae30-5a1b6461b8c4",
   "metadata": {},
   "outputs": [
    {
     "data": {
      "text/plain": [
       "array([29, 28, 27, 26, 25, 24, 23, 22, 21, 20, 19, 18, 17, 16, 15, 14, 13,\n",
       "       12, 11, 10])"
      ]
     },
     "execution_count": 62,
     "metadata": {},
     "output_type": "execute_result"
    }
   ],
   "source": [
    "#2\n",
    "np.flip(a4)"
   ]
  },
  {
   "cell_type": "markdown",
   "id": "ef026099-c433-4d85-9da7-de9107879a26",
   "metadata": {},
   "source": [
    "---"
   ]
  },
  {
   "cell_type": "markdown",
   "id": "269d56cb-1100-4476-9e9c-dad92c773726",
   "metadata": {},
   "source": [
    "### sort()\n",
    "* array sıralama"
   ]
  },
  {
   "cell_type": "code",
   "execution_count": 63,
   "id": "c4bce7a3-d429-4c9f-adb4-858b397e2c52",
   "metadata": {},
   "outputs": [
    {
     "data": {
      "text/plain": [
       "array([10,  5,  2, 22, 12, 92, 17, 33])"
      ]
     },
     "execution_count": 63,
     "metadata": {},
     "output_type": "execute_result"
    }
   ],
   "source": [
    "a=np.array([10,5,2,22,12,92,17,33])\n",
    "a"
   ]
  },
  {
   "cell_type": "code",
   "execution_count": 64,
   "id": "6ef99349-5aca-4193-b54e-8a597d3b0dec",
   "metadata": {},
   "outputs": [
    {
     "data": {
      "text/plain": [
       "array([ 2,  5, 10, 12, 17, 22, 33, 92])"
      ]
     },
     "execution_count": 64,
     "metadata": {},
     "output_type": "execute_result"
    }
   ],
   "source": [
    "np.sort(a)"
   ]
  },
  {
   "cell_type": "code",
   "execution_count": 65,
   "id": "9c14848f-3c5e-42c5-953f-45cde7635390",
   "metadata": {},
   "outputs": [
    {
     "data": {
      "text/plain": [
       "array([[ 3,  2,  8,  1],\n",
       "       [70, 50, 10, 67],\n",
       "       [45, 25, 75, 15]])"
      ]
     },
     "execution_count": 65,
     "metadata": {},
     "output_type": "execute_result"
    }
   ],
   "source": [
    "a3 = np.array([[3,2,8,1],[70,50,10,67],[45,25,75,15]])\n",
    "a3"
   ]
  },
  {
   "cell_type": "code",
   "execution_count": 66,
   "id": "30f13210-1def-4a6e-a270-6a8480c660cc",
   "metadata": {},
   "outputs": [
    {
     "data": {
      "text/plain": [
       "array([[ 1,  2,  3,  8],\n",
       "       [10, 50, 67, 70],\n",
       "       [15, 25, 45, 75]])"
      ]
     },
     "execution_count": 66,
     "metadata": {},
     "output_type": "execute_result"
    }
   ],
   "source": [
    "#Satır bazlı sıralama\n",
    "np.sort(a3)"
   ]
  },
  {
   "cell_type": "code",
   "execution_count": 67,
   "id": "3dd53e43-516d-4552-a743-09438dc0766b",
   "metadata": {},
   "outputs": [
    {
     "data": {
      "text/plain": [
       "array([[ 3,  2,  8,  1],\n",
       "       [45, 25, 10, 15],\n",
       "       [70, 50, 75, 67]])"
      ]
     },
     "execution_count": 67,
     "metadata": {},
     "output_type": "execute_result"
    }
   ],
   "source": [
    "#Sütun bazlı sıralama\n",
    "np.sort(a3, axis=0)"
   ]
  },
  {
   "cell_type": "code",
   "execution_count": 68,
   "id": "c1bd1036-83e3-4281-9e30-e2e5c4ec7906",
   "metadata": {},
   "outputs": [
    {
     "data": {
      "text/plain": [
       "array([10,  5,  2, 22, 12, 92, 17, 33])"
      ]
     },
     "execution_count": 68,
     "metadata": {},
     "output_type": "execute_result"
    }
   ],
   "source": [
    "a"
   ]
  },
  {
   "cell_type": "code",
   "execution_count": 69,
   "id": "734d373b-72ea-44a1-9317-fd7cb9f33308",
   "metadata": {},
   "outputs": [
    {
     "data": {
      "text/plain": [
       "array([92, 33, 22, 17, 12, 10,  5,  2])"
      ]
     },
     "execution_count": 69,
     "metadata": {},
     "output_type": "execute_result"
    }
   ],
   "source": [
    "# büyükten küçüğe sıralamak için önce küçükten büyüğe sıralayıp ters çeviriyoruz\n",
    "c = np.sort(a)\n",
    "np.flip(c)"
   ]
  },
  {
   "cell_type": "markdown",
   "id": "ccbca13a-62e6-4640-8bf9-2e9bfe7d2acb",
   "metadata": {},
   "source": [
    "---"
   ]
  },
  {
   "cell_type": "markdown",
   "id": "ec13066e-38a3-435e-b9ac-cf34c9f40aec",
   "metadata": {},
   "source": [
    "### random.shuffle()\n",
    "* array'i karıştırmak"
   ]
  },
  {
   "cell_type": "code",
   "execution_count": 70,
   "id": "b67850e0-f31f-4d90-91da-d9c2ba48ea43",
   "metadata": {},
   "outputs": [
    {
     "data": {
      "text/plain": [
       "array([ 0,  1,  2,  3,  4,  5,  6,  7,  8,  9, 10, 11, 12, 13, 14, 15, 16,\n",
       "       17, 18, 19, 20, 21, 22, 23, 24, 25, 26, 27, 28, 29, 30, 31, 32, 33,\n",
       "       34, 35, 36, 37, 38, 39, 40, 41, 42, 43, 44, 45, 46, 47, 48, 49])"
      ]
     },
     "execution_count": 70,
     "metadata": {},
     "output_type": "execute_result"
    }
   ],
   "source": [
    "p = np.arange(0,50)\n",
    "p"
   ]
  },
  {
   "cell_type": "code",
   "execution_count": 71,
   "id": "1a643464-5f6d-41e8-928e-7c9688207eba",
   "metadata": {},
   "outputs": [
    {
     "data": {
      "text/plain": [
       "array([45, 17, 11, 16, 26, 18, 39, 21,  1, 27, 33, 38, 13, 24,  2, 25, 47,\n",
       "       14,  6, 22, 20, 35,  7,  3, 36, 49, 37, 15, 30, 32,  9, 46, 23, 31,\n",
       "       44, 10, 41, 42, 34, 43,  8, 19, 48, 29, 12,  5,  0, 28, 40,  4])"
      ]
     },
     "execution_count": 71,
     "metadata": {},
     "output_type": "execute_result"
    }
   ],
   "source": [
    "np.random.shuffle(p)\n",
    "p"
   ]
  },
  {
   "cell_type": "code",
   "execution_count": 72,
   "id": "2f8e5524-a5a7-4b38-b28c-a2ee8d3574b8",
   "metadata": {},
   "outputs": [
    {
     "data": {
      "text/plain": [
       "array([40, 41, 42, 43, 44, 45, 46, 47, 48, 49])"
      ]
     },
     "execution_count": 72,
     "metadata": {},
     "output_type": "execute_result"
    }
   ],
   "source": [
    "# p arrayindeki en büyük 10 değeri bulma\n",
    "n = 10\n",
    "p[np.argsort(p)[-n:]]"
   ]
  },
  {
   "cell_type": "code",
   "execution_count": 73,
   "id": "977e0bf8-c77f-4d34-9e04-0411dcbcecdb",
   "metadata": {},
   "outputs": [
    {
     "data": {
      "text/plain": [
       "array([9, 8, 7, 6, 5, 4, 3, 2, 1, 0])"
      ]
     },
     "execution_count": 73,
     "metadata": {},
     "output_type": "execute_result"
    }
   ],
   "source": [
    "# p değerindeki en küçük 10 değeri bulma\n",
    "n=10\n",
    "p[np.argsort(-p)[-n:]]"
   ]
  },
  {
   "cell_type": "markdown",
   "id": "5a0298c6-fa2b-4ad0-8655-467732d4fc72",
   "metadata": {},
   "source": [
    "---"
   ]
  },
  {
   "cell_type": "markdown",
   "id": "c8f94f8f-92a4-4a10-952b-f13f449ff3b6",
   "metadata": {},
   "source": [
    "### unique()\n",
    "* Arraydeki benzersiz değerleri getirir"
   ]
  },
  {
   "cell_type": "code",
   "execution_count": 74,
   "id": "840d8aef-486d-4f6c-88ad-ac6fde83aacb",
   "metadata": {},
   "outputs": [
    {
     "data": {
      "text/plain": [
       "array([10, 20, 30])"
      ]
     },
     "execution_count": 74,
     "metadata": {},
     "output_type": "execute_result"
    }
   ],
   "source": [
    "b = np.array([10,10,10,20,30,30,20,10,20,30])\n",
    "np.unique(b)"
   ]
  },
  {
   "cell_type": "markdown",
   "id": "2a179e48-1a04-4cd9-8f40-9815d78d636b",
   "metadata": {},
   "source": [
    "---"
   ]
  },
  {
   "cell_type": "markdown",
   "id": "d54f89af-9f92-49b6-99ab-51f63480a8ff",
   "metadata": {},
   "source": [
    "### Hangi değerden kaç adet bulunuyor?"
   ]
  },
  {
   "cell_type": "code",
   "execution_count": 76,
   "id": "4d6c8602-15c8-4951-b16c-d26aeda497c0",
   "metadata": {},
   "outputs": [
    {
     "data": {
      "text/plain": [
       "(array([10, 20, 30]), array([4, 3, 3]))"
      ]
     },
     "execution_count": 76,
     "metadata": {},
     "output_type": "execute_result"
    }
   ],
   "source": [
    "val, count = np.unique(b, return_counts=True)\n",
    "val, count \n",
    "#10 değerinden 4 adet, 20 değerinden 3 adet, 30 değerinden 3 adet bulunmaktaymış."
   ]
  },
  {
   "cell_type": "markdown",
   "id": "a8d1479a-3565-4cb6-9c82-e942f4680ccf",
   "metadata": {},
   "source": [
    "---"
   ]
  },
  {
   "cell_type": "markdown",
   "id": "97fd431b-f1b9-4afd-8b69-5548b2023141",
   "metadata": {},
   "source": [
    "### En fazla tekrar eden değer hangisi?"
   ]
  },
  {
   "cell_type": "code",
   "execution_count": 77,
   "id": "422dec19-59ea-473b-a91f-598f33e40ce9",
   "metadata": {},
   "outputs": [
    {
     "data": {
      "text/plain": [
       "10"
      ]
     },
     "execution_count": 77,
     "metadata": {},
     "output_type": "execute_result"
    }
   ],
   "source": [
    "np.bincount(b).argmax()"
   ]
  },
  {
   "cell_type": "markdown",
   "id": "883d178a-169b-4d95-8cc9-598ac3a50f5a",
   "metadata": {},
   "source": [
    "---"
   ]
  },
  {
   "cell_type": "markdown",
   "id": "71176034-8de7-46e0-9dc8-b066abcecb55",
   "metadata": {},
   "source": [
    "### Arrayin değiştirilmesini engellemek sadece okunabilir kılmak."
   ]
  },
  {
   "cell_type": "code",
   "execution_count": 78,
   "id": "98e02937-ce89-444f-a81a-c06856053d4d",
   "metadata": {},
   "outputs": [
    {
     "data": {
      "text/plain": [
       "array([10, 20, 30, 40, 50, 60, 70, 80, 90])"
      ]
     },
     "execution_count": 78,
     "metadata": {},
     "output_type": "execute_result"
    }
   ],
   "source": [
    "d5 = np.arange(10, 100, 10)\n",
    "d5"
   ]
  },
  {
   "cell_type": "code",
   "execution_count": 79,
   "id": "4e51548f-0c55-4e34-815c-37e7243e71b0",
   "metadata": {},
   "outputs": [],
   "source": [
    "d5.flags.writeable = False\n",
    "#yazılabilir olması durumunu kaldırdık ve artık üstüne yazılamaz."
   ]
  },
  {
   "cell_type": "code",
   "execution_count": 81,
   "id": "0755228f-671c-4c4f-89f9-9ae71ea5df90",
   "metadata": {},
   "outputs": [
    {
     "ename": "ValueError",
     "evalue": "assignment destination is read-only",
     "output_type": "error",
     "traceback": [
      "\u001b[0;31m---------------------------------------------------------------------------\u001b[0m",
      "\u001b[0;31mValueError\u001b[0m                                Traceback (most recent call last)",
      "\u001b[0;32m/var/folders/d4/wz2dgkvx2bl0sj81mlfhmt1r0000gn/T/ipykernel_6146/3100762575.py\u001b[0m in \u001b[0;36m<module>\u001b[0;34m\u001b[0m\n\u001b[1;32m      1\u001b[0m \u001b[0;31m#Göründüğü üzere değişiklik yapamıyoruz.\u001b[0m\u001b[0;34m\u001b[0m\u001b[0;34m\u001b[0m\u001b[0m\n\u001b[0;32m----> 2\u001b[0;31m \u001b[0md5\u001b[0m\u001b[0;34m[\u001b[0m\u001b[0;36m2\u001b[0m\u001b[0;34m]\u001b[0m\u001b[0;34m=\u001b[0m\u001b[0;36m11\u001b[0m\u001b[0;34m\u001b[0m\u001b[0;34m\u001b[0m\u001b[0m\n\u001b[0m",
      "\u001b[0;31mValueError\u001b[0m: assignment destination is read-only"
     ]
    }
   ],
   "source": [
    "#Göründüğü üzere değişiklik yapamıyoruz.\n",
    "d5[2]=11"
   ]
  },
  {
   "cell_type": "markdown",
   "id": "f864d628-f147-4e1a-beb3-bfbb4079bdcc",
   "metadata": {},
   "source": [
    "---"
   ]
  },
  {
   "cell_type": "markdown",
   "id": "ace58905-5691-45b7-9cc4-daf1dcc31221",
   "metadata": {},
   "source": [
    "### Dosya yükleme"
   ]
  },
  {
   "cell_type": "code",
   "execution_count": 82,
   "id": "45b3526c-765f-4005-a8da-d90965f48df7",
   "metadata": {},
   "outputs": [
    {
     "data": {
      "text/plain": [
       "array([[24, 29, 88],\n",
       "       [ 1,  0,  8],\n",
       "       [33,  7, 99],\n",
       "       [39, 11, 98],\n",
       "       [22, 76, 87]])"
      ]
     },
     "execution_count": 82,
     "metadata": {},
     "output_type": "execute_result"
    }
   ],
   "source": [
    "p4 = np.loadtxt('Data/sample.txt', dtype=np.integer)\n",
    "p4"
   ]
  },
  {
   "cell_type": "code",
   "execution_count": 83,
   "id": "0206a545-deab-41c2-9806-cebe88f3b18a",
   "metadata": {},
   "outputs": [
    {
     "data": {
      "text/plain": [
       "array([['Dogu', 'Turkey', 'Football'],\n",
       "       ['John', 'USA', 'Hockey'],\n",
       "       ['Paul', 'Canada', 'Basketball']], dtype='<U10')"
      ]
     },
     "execution_count": 83,
     "metadata": {},
     "output_type": "execute_result"
    }
   ],
   "source": [
    "p5 = np.genfromtxt('Data/sample0.txt', dtype='str')\n",
    "p5"
   ]
  },
  {
   "cell_type": "code",
   "execution_count": 84,
   "id": "69166275-a249-41ac-ae63-070ea525b01b",
   "metadata": {},
   "outputs": [
    {
     "data": {
      "text/plain": [
       "array(['Dogu', 'Turkey', 'Football'], dtype='<U10')"
      ]
     },
     "execution_count": 84,
     "metadata": {},
     "output_type": "execute_result"
    }
   ],
   "source": [
    "p5[0]"
   ]
  },
  {
   "cell_type": "code",
   "execution_count": 85,
   "id": "f551d47c-595a-4f83-a7e8-a8ac4c6d6b7e",
   "metadata": {},
   "outputs": [
    {
     "data": {
      "text/plain": [
       "array(['Dogu', 'John', 'Paul'], dtype='<U10')"
      ]
     },
     "execution_count": 85,
     "metadata": {},
     "output_type": "execute_result"
    }
   ],
   "source": [
    "p5[:,0]"
   ]
  },
  {
   "cell_type": "code",
   "execution_count": 87,
   "id": "1449cafb-b4f5-4ada-b278-d502f1e1ea8b",
   "metadata": {},
   "outputs": [
    {
     "data": {
      "text/plain": [
       "array([[24., 88.],\n",
       "       [ 1.,  8.],\n",
       "       [33., 99.],\n",
       "       [39., 98.],\n",
       "       [22., 87.]])"
      ]
     },
     "execution_count": 87,
     "metadata": {},
     "output_type": "execute_result"
    }
   ],
   "source": [
    "#Dosyanın belirli bölümünü yüklemek\n",
    "np.loadtxt('Data/sample.txt', usecols=(0,2))\n",
    "#0. ve 2. sütünları getirdi."
   ]
  },
  {
   "cell_type": "markdown",
   "id": "b84a7c31-38b0-4cd9-98ac-7245032ab5d4",
   "metadata": {},
   "source": [
    "---"
   ]
  },
  {
   "cell_type": "markdown",
   "id": "617c22ab-7c38-4df1-b96a-2c8416c2794e",
   "metadata": {},
   "source": [
    "### Dosya kaydetme"
   ]
  },
  {
   "cell_type": "code",
   "execution_count": 88,
   "id": "7b6c31b8-ec9a-4132-abc8-ba6919b6e998",
   "metadata": {},
   "outputs": [
    {
     "data": {
      "text/plain": [
       "array([ 10,  21,  32,  43,  54,  65,  76,  87,  98, 109, 120, 131, 142,\n",
       "       153, 164, 175, 186, 197])"
      ]
     },
     "execution_count": 88,
     "metadata": {},
     "output_type": "execute_result"
    }
   ],
   "source": [
    "p7 = np.arange(10,200,11)\n",
    "p7"
   ]
  },
  {
   "cell_type": "code",
   "execution_count": 89,
   "id": "8a47d5ec-a04d-4eb0-9246-e03f683f2501",
   "metadata": {},
   "outputs": [],
   "source": [
    "np.savetxt('savingExample.csv',p7,delimiter=',')\n",
    "#Değerlerin aralarını ',' ile ayırdık."
   ]
  },
  {
   "cell_type": "markdown",
   "id": "290b1c76-6085-4ed9-b9ca-0610bf165249",
   "metadata": {},
   "source": [
    "---"
   ]
  },
  {
   "cell_type": "markdown",
   "id": "c1d99df2-d4cb-404b-9d92-f2bcc98d4d93",
   "metadata": {},
   "source": [
    "### Print seçenekleri (Print Options)"
   ]
  },
  {
   "cell_type": "code",
   "execution_count": 90,
   "id": "07305821-a2b1-4944-8b99-f5ff6e95bc2c",
   "metadata": {},
   "outputs": [
    {
     "data": {
      "text/plain": [
       "array([12.2345, 23.4565])"
      ]
     },
     "execution_count": 90,
     "metadata": {},
     "output_type": "execute_result"
    }
   ],
   "source": [
    "np.set_printoptions(precision=4)\n",
    "#Virgülden sonra 4 basamak gösterilsin dedik (precision=4)\n",
    "a=np.array([12.23445234,23.45645437])\n",
    "a"
   ]
  },
  {
   "cell_type": "code",
   "execution_count": 92,
   "id": "0ae858dd-ed50-414d-b4f6-2373f3f6db83",
   "metadata": {},
   "outputs": [
    {
     "data": {
      "text/plain": [
       "array([  0,   1,   2, ..., 197, 198, 199])"
      ]
     },
     "execution_count": 92,
     "metadata": {},
     "output_type": "execute_result"
    }
   ],
   "source": [
    "np.set_printoptions(threshold=3)\n",
    "#Arrayin ilk 3 ve son 3 değerini göstermesini istedik\n",
    "np.arange(200)"
   ]
  },
  {
   "cell_type": "code",
   "execution_count": 93,
   "id": "2c8990d4-3c50-48f7-9109-4def81868593",
   "metadata": {},
   "outputs": [],
   "source": [
    "#Resetlemek için formatter=None yapmamız lazım\n",
    "np.set_printoptions(precision=8,suppress=False, threshold=1000,formatter=None)"
   ]
  },
  {
   "cell_type": "code",
   "execution_count": 94,
   "id": "ff817553-5116-4c40-a511-6f4bbf6e284b",
   "metadata": {},
   "outputs": [
    {
     "data": {
      "text/plain": [
       "array([ 0,  1,  2,  3,  4,  5,  6,  7,  8,  9, 10, 11, 12, 13, 14, 15, 16,\n",
       "       17, 18, 19, 20, 21, 22, 23, 24, 25, 26, 27, 28, 29, 30, 31, 32, 33,\n",
       "       34, 35, 36, 37, 38, 39, 40, 41, 42, 43, 44, 45, 46, 47, 48, 49, 50,\n",
       "       51, 52, 53, 54, 55, 56, 57, 58, 59, 60, 61, 62, 63, 64, 65, 66, 67,\n",
       "       68, 69, 70, 71, 72, 73, 74, 75, 76, 77, 78, 79, 80, 81, 82, 83, 84,\n",
       "       85, 86, 87, 88, 89, 90, 91, 92, 93, 94, 95, 96, 97, 98, 99])"
      ]
     },
     "execution_count": 94,
     "metadata": {},
     "output_type": "execute_result"
    }
   ],
   "source": [
    "np.arange(100)"
   ]
  },
  {
   "cell_type": "markdown",
   "id": "8abe6161-1b7e-4935-b0e9-82fdcb0e79f9",
   "metadata": {},
   "source": [
    "### Vektör toplama"
   ]
  },
  {
   "cell_type": "code",
   "execution_count": 96,
   "id": "5cfdb586-0ede-4490-92ba-63ed22b1182a",
   "metadata": {},
   "outputs": [
    {
     "data": {
      "text/plain": [
       "array([4, 6])"
      ]
     },
     "execution_count": 96,
     "metadata": {},
     "output_type": "execute_result"
    }
   ],
   "source": [
    "#1\n",
    "v1 = np.array([1,2])\n",
    "v2 = np.array([3,4])\n",
    "v3=v1+v2\n",
    "v3"
   ]
  },
  {
   "cell_type": "code",
   "execution_count": 97,
   "id": "e2a2b657-bfdb-4695-a28b-f0c8236f468b",
   "metadata": {},
   "outputs": [
    {
     "data": {
      "text/plain": [
       "array([4, 6])"
      ]
     },
     "execution_count": 97,
     "metadata": {},
     "output_type": "execute_result"
    }
   ],
   "source": [
    "#2\n",
    "v3 = np.add(v1,v2)\n",
    "v3"
   ]
  },
  {
   "cell_type": "markdown",
   "id": "2ee7ae9d-2b84-4115-b2a7-a84dd4d66848",
   "metadata": {},
   "source": [
    "---"
   ]
  },
  {
   "cell_type": "markdown",
   "id": "9e58c092-61b8-497d-b2dc-ff651bb8cb87",
   "metadata": {},
   "source": [
    "### Vektör çarpma"
   ]
  },
  {
   "cell_type": "code",
   "execution_count": 100,
   "id": "ca69d037-748d-4696-8240-ae303a0dd8c8",
   "metadata": {},
   "outputs": [
    {
     "name": "stdout",
     "output_type": "stream",
     "text": [
      "[20 42 72]\n"
     ]
    }
   ],
   "source": [
    "a1 = np.array([5,6,8])\n",
    "a2 = np.array([4,7,9])\n",
    "print(np.multiply(a1,a2))"
   ]
  },
  {
   "cell_type": "markdown",
   "id": "95d85926-0386-44d6-9777-898c04169634",
   "metadata": {},
   "source": [
    "---"
   ]
  },
  {
   "cell_type": "markdown",
   "id": "3ceaefdb-fe94-43f8-9c18-67baa26e2357",
   "metadata": {},
   "source": [
    "### Noktasal çarpım"
   ]
  },
  {
   "cell_type": "code",
   "execution_count": 101,
   "id": "b639783f-d900-4a90-8dac-2be68528720d",
   "metadata": {},
   "outputs": [
    {
     "name": "stdout",
     "output_type": "stream",
     "text": [
      "Dot product with@ -  32\n",
      "Dot product with np.dot -  32\n",
      "Dot product with np.inner -  32\n",
      "Dot product with sum&multiply -  32\n",
      "Dot product with np.matmul -  32\n"
     ]
    }
   ],
   "source": [
    "#1\n",
    "a1 = np.array([1,2,3])\n",
    "a2 = np.array([4,5,6])\n",
    "dotp= a1@a2\n",
    "print('Dot product with@ - ',dotp)\n",
    "#2\n",
    "dotp = np.dot(a1,a2)\n",
    "print('Dot product with np.dot - ',dotp)\n",
    "#3\n",
    "dotp = np.inner(a1,a2)\n",
    "print('Dot product with np.inner - ',dotp)\n",
    "#4\n",
    "dotp = sum(np.multiply(a1,a2))\n",
    "print('Dot product with sum&multiply - ',dotp)\n",
    "#5\n",
    "dotp = np.matmul(a1,a2)\n",
    "print('Dot product with np.matmul - ',dotp)"
   ]
  },
  {
   "cell_type": "markdown",
   "id": "6b1d0741-8476-4f96-a7ad-f1b04771dd5a",
   "metadata": {},
   "source": [
    "---"
   ]
  },
  {
   "cell_type": "markdown",
   "id": "570bf5cd-6d58-4446-bf10-a39abbd8b3e9",
   "metadata": {},
   "source": [
    "### Vektörlerin uzunluğu\n",
    "* ! Kendisiyle olan noktasal çarpımının karekökü (pisagor)"
   ]
  },
  {
   "cell_type": "code",
   "execution_count": 102,
   "id": "1a1ceac1-4926-409c-a73e-853ca4443f2e",
   "metadata": {},
   "outputs": [
    {
     "data": {
      "text/plain": [
       "9.539392014169456"
      ]
     },
     "execution_count": 102,
     "metadata": {},
     "output_type": "execute_result"
    }
   ],
   "source": [
    "v3 = np.array([1,2,3,4,5,6])\n",
    "length = np.sqrt(v3@v3)\n",
    "length"
   ]
  },
  {
   "cell_type": "markdown",
   "id": "147499c9-fa02-4f49-8786-755298a021ff",
   "metadata": {},
   "source": [
    "---"
   ]
  },
  {
   "cell_type": "markdown",
   "id": "ef178a32-2f87-4fd5-9096-0da987bb47de",
   "metadata": {},
   "source": [
    "### Normalizasyon\n",
    "* Vektörün uzunluğuna bölümü"
   ]
  },
  {
   "cell_type": "code",
   "execution_count": 103,
   "id": "44d5cb94-fe3b-4fba-a7b2-ba3ee8ecf0db",
   "metadata": {},
   "outputs": [
    {
     "data": {
      "text/plain": [
       "(3.605551275463989, array([0.5547002 , 0.83205029]))"
      ]
     },
     "execution_count": 103,
     "metadata": {},
     "output_type": "execute_result"
    }
   ],
   "source": [
    "v1 = np.array([2,3])\n",
    "length_v1 = np.sqrt(v1@v1)\n",
    "norm_v1 = v1/length_v1\n",
    "length_v1,norm_v1"
   ]
  },
  {
   "cell_type": "markdown",
   "id": "ada73d6f-80da-484e-b9ad-0d8f1116104a",
   "metadata": {},
   "source": [
    "---"
   ]
  },
  {
   "cell_type": "code",
   "execution_count": null,
   "id": "533aa877-4b88-484d-bb3f-4fb7729078ab",
   "metadata": {},
   "outputs": [],
   "source": []
  }
 ],
 "metadata": {
  "kernelspec": {
   "display_name": "Python 3 (ipykernel)",
   "language": "python",
   "name": "python3"
  },
  "language_info": {
   "codemirror_mode": {
    "name": "ipython",
    "version": 3
   },
   "file_extension": ".py",
   "mimetype": "text/x-python",
   "name": "python",
   "nbconvert_exporter": "python",
   "pygments_lexer": "ipython3",
   "version": "3.9.13"
  }
 },
 "nbformat": 4,
 "nbformat_minor": 5
}
