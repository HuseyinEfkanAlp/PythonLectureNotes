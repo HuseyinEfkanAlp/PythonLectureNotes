{
 "cells": [
  {
   "cell_type": "markdown",
   "id": "b54969d8-eb11-4e69-95ab-ce97cd95a8c5",
   "metadata": {},
   "source": [
    "# List Comprehension"
   ]
  },
  {
   "cell_type": "code",
   "execution_count": 4,
   "id": "8f9eccf0-3457-4945-afb4-15892266119d",
   "metadata": {},
   "outputs": [
    {
     "data": {
      "text/plain": [
       "[0, 1, 4, 9, 16, 25, 36, 49, 64, 81]"
      ]
     },
     "execution_count": 4,
     "metadata": {},
     "output_type": "execute_result"
    }
   ],
   "source": [
    "list2 = [i**2 for i in range(10)]\n",
    "list2"
   ]
  },
  {
   "cell_type": "code",
   "execution_count": 5,
   "id": "dc7357a3-0842-4a4c-ab21-fb9a0dff48a9",
   "metadata": {},
   "outputs": [
    {
     "data": {
      "text/plain": [
       "[0, 2, 4, 6, 8, 10, 12, 14, 16, 18, 20, 22, 24, 26, 28, 30, 32, 34, 36, 38]"
      ]
     },
     "execution_count": 5,
     "metadata": {},
     "output_type": "execute_result"
    }
   ],
   "source": [
    "gen2 = [i for i in range(40) if i%2 == 0]\n",
    "gen2"
   ]
  },
  {
   "cell_type": "code",
   "execution_count": 11,
   "id": "fcbfb8c6-88a5-45c4-868c-92918eb294b8",
   "metadata": {},
   "outputs": [
    {
     "data": {
      "text/plain": [
       "[0, 1, 2, 9, 4, 25, 6, 49, 8, 81, 10, 121, 12, 169, 14, 225, 16, 289, 18, 361]"
      ]
     },
     "execution_count": 11,
     "metadata": {},
     "output_type": "execute_result"
    }
   ],
   "source": [
    "gen3 = [i if i%2 == 0 else i**2 for i in range(20)]\n",
    "gen3"
   ]
  },
  {
   "cell_type": "markdown",
   "id": "f92e504b-30a7-4f30-a13b-f0bf91b88abb",
   "metadata": {},
   "source": [
    "------\n",
    "## Anonymous Functions (lambda, filter, map, reduce)"
   ]
  },
  {
   "cell_type": "code",
   "execution_count": 14,
   "id": "ef6e232f-125e-4b33-8966-ee1a21e82f8e",
   "metadata": {},
   "outputs": [
    {
     "data": {
      "text/plain": [
       "'\\nlambda num1, num2 : num1 + num2\\nfilter (function, iterable(örneğin list,tuple))\\nmap (function, iterable)\\nreduce (function,iterable)\\n'"
      ]
     },
     "execution_count": 14,
     "metadata": {},
     "output_type": "execute_result"
    }
   ],
   "source": [
    "'''\n",
    "lambda num1, num2 : num1 + num2\n",
    "filter (function, iterable(örneğin list,tuple))\n",
    "map (function, iterable)\n",
    "reduce (function,iterable)\n",
    "'''"
   ]
  },
  {
   "cell_type": "code",
   "execution_count": 16,
   "id": "16f39016-1554-4765-a5e5-a76eecd8a7a2",
   "metadata": {},
   "outputs": [
    {
     "name": "stdout",
     "output_type": "stream",
     "text": [
      "15\n"
     ]
    }
   ],
   "source": [
    "addition = lambda a : a+10\n",
    "print(addition(5))"
   ]
  },
  {
   "cell_type": "code",
   "execution_count": 17,
   "id": "23192aef-24f4-47be-aa7c-e893aabcfb4b",
   "metadata": {},
   "outputs": [
    {
     "name": "stdout",
     "output_type": "stream",
     "text": [
      "30\n"
     ]
    }
   ],
   "source": [
    "product = lambda a,b: a*b\n",
    "print(product(5,6))"
   ]
  },
  {
   "cell_type": "code",
   "execution_count": 19,
   "id": "586618e4-1117-4697-8bc5-e0c1a22f91cb",
   "metadata": {},
   "outputs": [
    {
     "name": "stdout",
     "output_type": "stream",
     "text": [
      "13\n"
     ]
    }
   ],
   "source": [
    "addition = lambda a, b, c: a+b+c\n",
    "print(addition(5,6,2))"
   ]
  },
  {
   "cell_type": "markdown",
   "id": "6634bdc9-8a5d-46b8-be6f-500a2585d7b8",
   "metadata": {},
   "source": [
    "## *args kullanımı\n",
    "* Fonksiyona İstediğiniz sayıda değer gönderebilirsiniz.\n",
    "* Gönderdiğiniz değerleri değişkene atamadan gönderirsiniz."
   ]
  },
  {
   "cell_type": "code",
   "execution_count": 22,
   "id": "f1b04d81-f354-473b-9302-d7f287ec92bf",
   "metadata": {},
   "outputs": [
    {
     "data": {
      "text/plain": [
       "(30, 80, 20)"
      ]
     },
     "execution_count": 22,
     "metadata": {},
     "output_type": "execute_result"
    }
   ],
   "source": [
    "# İsimlendirilmemiş argüman (non named arg)\n",
    "res = (lambda *args : sum(args))\n",
    "res(10,20), res(30,40,10), res(10,2,1,3,4)"
   ]
  },
  {
   "cell_type": "markdown",
   "id": "52c6db76-6a59-4f33-a196-8513af927832",
   "metadata": {},
   "source": [
    "## **kwargs kullanımı\n",
    "* Fonksiyona istediğiniz sayıda değer gönderebilirsiniz. Fakat\n",
    "* !!Değişkene atanarak kullanılır. (a=5)"
   ]
  },
  {
   "cell_type": "code",
   "execution_count": 23,
   "id": "d9c178e3-c930-4d7f-82bf-f4012fac502b",
   "metadata": {},
   "outputs": [
    {
     "data": {
      "text/plain": [
       "(60, 150)"
      ]
     },
     "execution_count": 23,
     "metadata": {},
     "output_type": "execute_result"
    }
   ],
   "source": [
    "# İsimlendirilmiş argüman a = 20(named arg)\n",
    "res1 = (lambda **kwargs : sum(kwargs.values()))\n",
    "res1(a=10,b=20,c=30), res1(a=10,b=20,c=30,d=40,e=50)"
   ]
  },
  {
   "cell_type": "code",
   "execution_count": 25,
   "id": "60888870-e02b-4a75-8c76-ab65ba938a1b",
   "metadata": {},
   "outputs": [
    {
     "data": {
      "text/plain": [
       "6000"
      ]
     },
     "execution_count": 25,
     "metadata": {},
     "output_type": "execute_result"
    }
   ],
   "source": [
    "def product(num):\n",
    "    total = 1\n",
    "    for i in num:\n",
    "        total*=i\n",
    "    return total\n",
    "res2 = (lambda **kwargs : product(kwargs.values()))\n",
    "res2(a=10,b=20,c=30)"
   ]
  },
  {
   "cell_type": "markdown",
   "id": "94f6860a-0345-43f4-a3ad-3c7504395c28",
   "metadata": {},
   "source": [
    "# filter()\n",
    "* Filtreleme işlemi görür.\n",
    "* İçerisine boolean dönen bir fonksiyon gönderir ve bu fonksiyonu hangi listeye uygulamak isterseniz onu gönderirsiniz ve tüm listeye bu fonksiyonu uygular"
   ]
  },
  {
   "cell_type": "code",
   "execution_count": 28,
   "id": "52589a15-97d5-42b3-b18d-47fc2121cb46",
   "metadata": {},
   "outputs": [],
   "source": [
    "list1 = list(range(10))"
   ]
  },
  {
   "cell_type": "code",
   "execution_count": 34,
   "id": "988b16d0-76a8-4a96-bab4-8b58c1a4f395",
   "metadata": {},
   "outputs": [
    {
     "name": "stdout",
     "output_type": "stream",
     "text": [
      "[1, 3, 5, 7, 9]\n"
     ]
    }
   ],
   "source": [
    "def odd(a):\n",
    "    if a%2==1:\n",
    "        return True\n",
    "    else:\n",
    "        return False\n",
    "\n",
    "odd_num = list(filter(odd, list1))\n",
    "print(odd_num)"
   ]
  },
  {
   "cell_type": "code",
   "execution_count": 38,
   "id": "9858abf5-7c33-433f-a516-d4ef7f6afe47",
   "metadata": {},
   "outputs": [
    {
     "data": {
      "text/plain": [
       "[1, 3, 5, 7, 9]"
      ]
     },
     "execution_count": 38,
     "metadata": {},
     "output_type": "execute_result"
    }
   ],
   "source": [
    "odd_num = list(filter((lambda x:x%2 == 1), list1))\n",
    "odd_num"
   ]
  },
  {
   "cell_type": "markdown",
   "id": "3abf54df-6638-470c-bb93-6c66e185acd7",
   "metadata": {},
   "source": [
    "# map() \n",
    "* Bütün elemanlara aynı işlemi uygular\n",
    "* İçerisine sonuç dönen bir fonksiyon ve uygulamak istediğiniz listeyi gönderirsiniz."
   ]
  },
  {
   "cell_type": "code",
   "execution_count": 41,
   "id": "60e7691c-3d45-41f7-8760-664fb4cf3f1b",
   "metadata": {},
   "outputs": [
    {
     "data": {
      "text/plain": [
       "[2, 6, 10, 14, 18]"
      ]
     },
     "execution_count": 41,
     "metadata": {},
     "output_type": "execute_result"
    }
   ],
   "source": [
    "def twice(n):\n",
    "    return n*2\n",
    "doubles = list(map(twice,odd_num))\n",
    "doubles"
   ]
  },
  {
   "cell_type": "code",
   "execution_count": 43,
   "id": "c4d1a661-18e9-4e74-8549-be0a49548313",
   "metadata": {},
   "outputs": [
    {
     "data": {
      "text/plain": [
       "[2, 6, 10, 14, 18]"
      ]
     },
     "execution_count": 43,
     "metadata": {},
     "output_type": "execute_result"
    }
   ],
   "source": [
    "doubles = list(map(lambda x: x*2, odd_num))\n",
    "doubles"
   ]
  },
  {
   "cell_type": "markdown",
   "id": "1cfaf610-1210-43cd-a99c-10d3161d1706",
   "metadata": {},
   "source": [
    "# reduce()"
   ]
  },
  {
   "cell_type": "code",
   "execution_count": 44,
   "id": "1a0a9f3a-d896-42e6-92e1-1a6979b55258",
   "metadata": {},
   "outputs": [],
   "source": [
    "from functools import reduce"
   ]
  },
  {
   "cell_type": "code",
   "execution_count": 45,
   "id": "97846afb-f92b-4574-9557-b8932cde33c4",
   "metadata": {},
   "outputs": [
    {
     "data": {
      "text/plain": [
       "50"
      ]
     },
     "execution_count": 45,
     "metadata": {},
     "output_type": "execute_result"
    }
   ],
   "source": [
    "def add(a, b):\n",
    "    return a+b\n",
    "\n",
    "sum_all = reduce(add, doubles)\n",
    "sum_all"
   ]
  },
  {
   "cell_type": "code",
   "execution_count": 46,
   "id": "f05529b0-cc41-44a9-bdd8-6c880f015267",
   "metadata": {},
   "outputs": [
    {
     "data": {
      "text/plain": [
       "50"
      ]
     },
     "execution_count": 46,
     "metadata": {},
     "output_type": "execute_result"
    }
   ],
   "source": [
    "sum_all = reduce(lambda a,b: a+b, doubles)\n",
    "sum_all"
   ]
  },
  {
   "cell_type": "code",
   "execution_count": 47,
   "id": "d3a57b04-f315-49e2-8e76-5f1759d0e1e0",
   "metadata": {},
   "outputs": [],
   "source": [
    "sum_all = reduce(lambda a,b: a+b, list(map(lambda x: x*2, list(filter(lambda x:x%2==1, list1)))))"
   ]
  },
  {
   "cell_type": "code",
   "execution_count": 48,
   "id": "ed0bfc99-3c29-4b45-ad0a-cb5b295b41ad",
   "metadata": {},
   "outputs": [
    {
     "data": {
      "text/plain": [
       "50"
      ]
     },
     "execution_count": 48,
     "metadata": {},
     "output_type": "execute_result"
    }
   ],
   "source": [
    "sum_all"
   ]
  }
 ],
 "metadata": {
  "kernelspec": {
   "display_name": "Python 3 (ipykernel)",
   "language": "python",
   "name": "python3"
  },
  "language_info": {
   "codemirror_mode": {
    "name": "ipython",
    "version": 3
   },
   "file_extension": ".py",
   "mimetype": "text/x-python",
   "name": "python",
   "nbconvert_exporter": "python",
   "pygments_lexer": "ipython3",
   "version": "3.9.13"
  }
 },
 "nbformat": 4,
 "nbformat_minor": 5
}
